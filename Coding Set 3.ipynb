{
 "cells": [
  {
   "cell_type": "markdown",
   "id": "1747bdf8-94a7-433f-93fc-17349c3c7ee0",
   "metadata": {},
   "source": [
    "## Question 4 - Algorithm Workbench"
   ]
  },
  {
   "cell_type": "code",
   "execution_count": 5,
   "id": "4963321f-3171-4d93-a12f-5c789e593abe",
   "metadata": {},
   "outputs": [
    {
     "name": "stdout",
     "output_type": "stream",
     "text": [
      "Your grade is A.\n"
     ]
    }
   ],
   "source": [
    "# manually retyping code script from the textbook for reformatting\n",
    "\n",
    "A_score = 89\n",
    "B_score = 79\n",
    "C_score = 69\n",
    "D_score = 59\n",
    "score = 90\n",
    "\n",
    "# added this code to counter the error message\n",
    "\n",
    "if score >= A_score:\n",
    "    print(\"Your grade is A.\")\n",
    "else:\n",
    "    if score >= B_score:\n",
    "        print(\"Your grade is B.\")\n",
    "    else:\n",
    "        if score >= C_score:\n",
    "            print(\"Your grade is C.\")\n",
    "        else:\n",
    "            if score >= D_score:\n",
    "                print(\"Your grade is D.\")\n",
    "            else:\n",
    "                print(\"Your grade is F.\")"
   ]
  },
  {
   "cell_type": "markdown",
   "id": "f19a5016-fc94-4c6b-8cf3-540f402c4a8f",
   "metadata": {},
   "source": [
    "## Question 5 - Algorithm Workbench"
   ]
  },
  {
   "cell_type": "code",
   "execution_count": 13,
   "id": "9a94a549-e8da-47a9-ba43-b669209ca895",
   "metadata": {},
   "outputs": [
    {
     "name": "stdout",
     "output_type": "stream",
     "text": [
      "Amount equal to:\n",
      "68\n"
     ]
    }
   ],
   "source": [
    "# test numbers for amounts 1 & 2\n",
    "\n",
    "amount1 = 15\n",
    "amount2 = 68\n",
    "\n",
    "#condition check for both amounts\n",
    "\n",
    "if amount1 > 10:\n",
    "    if amount2 < 100:\n",
    "        if amount1 > amount2:\n",
    "            print(\"Amount equal to:\")\n",
    "            print (amount1)\n",
    "        else:\n",
    "            print(\"Amount equal to:\")\n",
    "            print(amount2)\n"
   ]
  },
  {
   "cell_type": "markdown",
   "id": "d52bf203-aa39-494c-9c04-c2b3092d11a0",
   "metadata": {},
   "source": [
    "## Question 1 - Programming Exercises"
   ]
  },
  {
   "cell_type": "code",
   "execution_count": 20,
   "id": "e16c9445-a313-47d5-895c-0a655c6840cd",
   "metadata": {},
   "outputs": [
    {
     "name": "stdin",
     "output_type": "stream",
     "text": [
      "Enter a number between 1-7: 3\n"
     ]
    },
    {
     "name": "stdout",
     "output_type": "stream",
     "text": [
      "3\n",
      "Wednesday\n"
     ]
    }
   ],
   "source": [
    "# assigning variables\n",
    "\n",
    "Monday = 1\n",
    "Tuesday = 2\n",
    "Wednesday = 3\n",
    "Thursday = 4\n",
    "Friday = 5\n",
    "Saturday = 6\n",
    "Sunday = 7\n",
    "\n",
    "# asking user for number input\n",
    "# corrected code by using elif instead of nested if loop\n",
    "#\n",
    "\n",
    "day = int(input(\"Enter a number between 1-7:\"))\n",
    "print(day)\n",
    "\n",
    "if day == 1:\n",
    "    print(\"Monday\")\n",
    "elif day == 2:\n",
    "    print(\"Tuesday\")\n",
    "elif day == 3:\n",
    "     print(\"Wednesday\")\n",
    "elif day == 4:\n",
    "    print(\"Thursday\")\n",
    "elif day == 5:\n",
    "    print(\"Friday\")\n",
    "elif day == 6:\n",
    "    print(\"Saturday\")\n",
    "elif day == 7:\n",
    "    print(\"Sunday\")\n",
    "else:\n",
    "    print(\"Error! Please enter a number between 1-7.\")\n",
    "\n",
    "\n"
   ]
  },
  {
   "cell_type": "markdown",
   "id": "8d388f66-2906-4ac9-8431-58ed0e48e07a",
   "metadata": {},
   "source": [
    "## Question 5 - Programming Exercises"
   ]
  },
  {
   "cell_type": "code",
   "execution_count": null,
   "id": "0afaffbe-5cb3-4e01-9d5a-402425131788",
   "metadata": {},
   "outputs": [],
   "source": []
  },
  {
   "cell_type": "markdown",
   "id": "58d3045b-a5dd-441c-a04b-0d639094fcf7",
   "metadata": {},
   "source": [
    "## Question X - Programming Exercises"
   ]
  },
  {
   "cell_type": "code",
   "execution_count": null,
   "id": "6d6a9266-4575-4d68-a40d-e006f323f4a0",
   "metadata": {},
   "outputs": [],
   "source": []
  },
  {
   "cell_type": "markdown",
   "id": "eee691ba-0fbd-4cc0-a59c-220a7b271e02",
   "metadata": {},
   "source": [
    "## Question X - Programming Exercises"
   ]
  },
  {
   "cell_type": "code",
   "execution_count": null,
   "id": "c6680123-17ca-4182-bedc-f93551d001ab",
   "metadata": {},
   "outputs": [],
   "source": []
  }
 ],
 "metadata": {
  "kernelspec": {
   "display_name": "Python 3 (ipykernel)",
   "language": "python",
   "name": "python3"
  },
  "language_info": {
   "codemirror_mode": {
    "name": "ipython",
    "version": 3
   },
   "file_extension": ".py",
   "mimetype": "text/x-python",
   "name": "python",
   "nbconvert_exporter": "python",
   "pygments_lexer": "ipython3",
   "version": "3.9.6"
  }
 },
 "nbformat": 4,
 "nbformat_minor": 5
}
