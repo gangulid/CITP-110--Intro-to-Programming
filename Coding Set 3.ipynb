{
 "cells": [
  {
   "cell_type": "markdown",
   "id": "1747bdf8-94a7-433f-93fc-17349c3c7ee0",
   "metadata": {},
   "source": [
    "## Question 4 - Algorithm Workbench"
   ]
  },
  {
   "cell_type": "code",
   "execution_count": null,
   "id": "4963321f-3171-4d93-a12f-5c789e593abe",
   "metadata": {},
   "outputs": [],
   "source": []
  },
  {
   "cell_type": "markdown",
   "id": "f19a5016-fc94-4c6b-8cf3-540f402c4a8f",
   "metadata": {},
   "source": [
    "## Question 5 - Algorithm Workbench"
   ]
  },
  {
   "cell_type": "code",
   "execution_count": null,
   "id": "9a94a549-e8da-47a9-ba43-b669209ca895",
   "metadata": {},
   "outputs": [],
   "source": []
  },
  {
   "cell_type": "markdown",
   "id": "d52bf203-aa39-494c-9c04-c2b3092d11a0",
   "metadata": {},
   "source": [
    "## Question 1 - Programming Exercises"
   ]
  },
  {
   "cell_type": "code",
   "execution_count": null,
   "id": "e16c9445-a313-47d5-895c-0a655c6840cd",
   "metadata": {},
   "outputs": [],
   "source": []
  },
  {
   "cell_type": "markdown",
   "id": "8d388f66-2906-4ac9-8431-58ed0e48e07a",
   "metadata": {},
   "source": [
    "## Qu"
   ]
  }
 ],
 "metadata": {
  "kernelspec": {
   "display_name": "Python 3 (ipykernel)",
   "language": "python",
   "name": "python3"
  },
  "language_info": {
   "codemirror_mode": {
    "name": "ipython",
    "version": 3
   },
   "file_extension": ".py",
   "mimetype": "text/x-python",
   "name": "python",
   "nbconvert_exporter": "python",
   "pygments_lexer": "ipython3",
   "version": "3.9.6"
  }
 },
 "nbformat": 4,
 "nbformat_minor": 5
}
