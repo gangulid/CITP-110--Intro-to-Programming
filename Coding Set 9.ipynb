{
 "cells": [
  {
   "cell_type": "markdown",
   "id": "4b865ad7-a4d8-4b73-bc88-aaaaa1f61dce",
   "metadata": {},
   "source": [
    "## Programming Exercise - 1: Course Information"
   ]
  },
  {
   "cell_type": "code",
   "execution_count": 2,
   "id": "8a196e95-00f3-499a-a1eb-de4e00c4af7b",
   "metadata": {},
   "outputs": [],
   "source": [
    "course_rooms = {'CS101':'3004', \n",
    "                'CS102':'4501', \n",
    "                'CS103':'6755',\n",
    "                'NT110':'1244',\n",
    "                'CM241':'1411'}\n",
    "\n",
    "course_instructors = {'CS101':'Haynes',\n",
    "                      'CS102':'Alvarado',\n",
    "                      'CS103':'Rich',\n",
    "                      'NT110':'Burke',\n",
    "                      'CM241':'Lee'}\n",
    "\n",
    "course_times = {'CS101':'8am',\n",
    "                'CS102':'9am',\n",
    "                'CS103':'10am',\n",
    "                'NT110':'11am',\n",
    "                'CM241':'1pm'}\n",
    "\n",
    "\n",
    "\n",
    "\n",
    "\n",
    "\n",
    "\n",
    "\n",
    "\n",
    "# for key in course_and_room_number:\n",
    "   # print(key, course_and_room_number[key])"
   ]
  },
  {
   "cell_type": "code",
   "execution_count": null,
   "id": "2b03aa70-3fa1-4a9c-9278-b5b066dd874a",
   "metadata": {},
   "outputs": [],
   "source": []
  }
 ],
 "metadata": {
  "kernelspec": {
   "display_name": "Python 3 (ipykernel)",
   "language": "python",
   "name": "python3"
  },
  "language_info": {
   "codemirror_mode": {
    "name": "ipython",
    "version": 3
   },
   "file_extension": ".py",
   "mimetype": "text/x-python",
   "name": "python",
   "nbconvert_exporter": "python",
   "pygments_lexer": "ipython3",
   "version": "3.9.6"
  }
 },
 "nbformat": 4,
 "nbformat_minor": 5
}
