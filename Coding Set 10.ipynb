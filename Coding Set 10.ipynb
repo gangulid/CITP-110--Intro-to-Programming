{
 "cells": [
  {
   "cell_type": "markdown",
   "id": "ed98ab68-ed92-498d-a2d5-964b535d66b0",
   "metadata": {},
   "source": [
    "## Programming Exercise: The Pet Class - 1"
   ]
  },
  {
   "cell_type": "code",
   "execution_count": null,
   "id": "1888b093-e1ff-4d58-a8d2-c199674db437",
   "metadata": {},
   "outputs": [],
   "source": [
    "# Creating class name \"pet\"\n",
    "\n",
    "class Pet:\n",
    "    # __init__ method initializes the data attributes\n",
    "    def __init__(self, name='', animal_type='', age=0):\n",
    "        self.__name = name\n",
    "        self.__animal_type = animal_type\n",
    "        self.__age = age\n",
    "        print(self.__name)\n",
    "        \n",
    "    # Creating methods of assigning and returning values \n",
    "    def set_name(self, name):\n",
    "        self.__name = name \n",
    "\n",
    "    def set_animal_type(self, animal_type): \n",
    "        self.__animal_type = animal_type\n",
    "\n",
    "    def set_age(self, age):\n",
    "        self.__age = age\n",
    "\n",
    "    def get_name(self):\n",
    "        return self.__name\n",
    "\n",
    "    def get_animal_type(self):\n",
    "        return self.__animal_type\n",
    "\n",
    "    def get_age(self):\n",
    "        return self.__age\n",
    "\n",
    "def main():\n",
    "    # Get name, type, and age of the pet\n",
    "    pet_name = str(input(\"What is your pet's name? \"))\n",
    "    pet_type = str(input(\"What kind of animal is your pet? \"))\n",
    "    pet_age = float(input(\"How old is your pet in years? \"))\n",
    "\n",
    "    pet = Pet()\n",
    "    pet.set_name(pet_name)\n",
    "    pet.set_animal_type(pet_type)\n",
    "    pet.set_age(pet_age)\n",
    "    print(f' The name is {pet.get_name()}')\n",
    "    print(f' The type is {pet.get_animal_type()}')\n",
    "    print(f' The age is {pet.get_age()}')\n",
    "    \n",
    "\n",
    "if __name__ == '__main__':\n",
    "    main()\n",
    "    \n"
   ]
  },
  {
   "cell_type": "code",
   "execution_count": null,
   "id": "60b963b8-ffbf-41f3-bafd-97281b824f63",
   "metadata": {},
   "outputs": [],
   "source": []
  }
 ],
 "metadata": {
  "kernelspec": {
   "display_name": "Python 3 (ipykernel)",
   "language": "python",
   "name": "python3"
  },
  "language_info": {
   "codemirror_mode": {
    "name": "ipython",
    "version": 3
   },
   "file_extension": ".py",
   "mimetype": "text/x-python",
   "name": "python",
   "nbconvert_exporter": "python",
   "pygments_lexer": "ipython3",
   "version": "3.9.6"
  }
 },
 "nbformat": 4,
 "nbformat_minor": 5
}
