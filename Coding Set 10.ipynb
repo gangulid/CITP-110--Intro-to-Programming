{
 "cells": [
  {
   "cell_type": "markdown",
   "id": "ed98ab68-ed92-498d-a2d5-964b535d66b0",
   "metadata": {},
   "source": [
    "## Programming Exercise: The Pet Class - 1"
   ]
  },
  {
   "cell_type": "code",
   "execution_count": null,
   "id": "1888b093-e1ff-4d58-a8d2-c199674db437",
   "metadata": {},
   "outputs": [],
   "source": [
    "# Creating class name \"pet\"\n",
    "\n",
    "class Pet:\n",
    "    # __init__ method initializes the data attributes\n",
    "    def __init__(self, name='', animal_type='', age=0):\n",
    "        self.__name = name\n",
    "        self.__animal_type = animal_type\n",
    "        self.__age = age\n",
    "\n"
   ]
  }
 ],
 "metadata": {
  "kernelspec": {
   "display_name": "Python 3 (ipykernel)",
   "language": "python",
   "name": "python3"
  },
  "language_info": {
   "codemirror_mode": {
    "name": "ipython",
    "version": 3
   },
   "file_extension": ".py",
   "mimetype": "text/x-python",
   "name": "python",
   "nbconvert_exporter": "python",
   "pygments_lexer": "ipython3",
   "version": "3.9.6"
  }
 },
 "nbformat": 4,
 "nbformat_minor": 5
}
