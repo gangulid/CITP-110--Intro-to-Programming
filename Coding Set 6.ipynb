{
 "cells": [
  {
   "cell_type": "markdown",
   "id": "1e241908-d3e4-46fe-a7e9-73d0bc023ee0",
   "metadata": {},
   "source": [
    "## Algorithm Workbench - 1"
   ]
  },
  {
   "cell_type": "code",
   "execution_count": 4,
   "id": "02500118-95a7-489b-87eb-6bbb5bcaedb4",
   "metadata": {},
   "outputs": [],
   "source": [
    "# Defining main function\n",
    "def main():\n",
    "    \n",
    "    # Opening file called \"my_name.txt\"\n",
    "    outfile = open('my_name.txt', 'w')\n",
    "    \n",
    "    # Writing my name to the file\n",
    "    outfile.write('Diya\\n')\n",
    "    \n",
    "    # Closing the file\n",
    "    outfile.close()\n",
    "\n",
    "# Calling main function\n",
    "if __name__ == '__main__':\n",
    "    main()"
   ]
  },
  {
   "cell_type": "markdown",
   "id": "57bd1bfa-cfb7-48b7-9e6c-f1756e087d06",
   "metadata": {},
   "source": [
    "## Algorithm Workbench - 2"
   ]
  },
  {
   "cell_type": "code",
   "execution_count": null,
   "id": "ab077475-dadb-4b91-9684-ee86b0ee0999",
   "metadata": {},
   "outputs": [],
   "source": [
    "# Defining main function\n",
    "def main():\n",
    "    \n",
    "    # Opening file called \"my_name.txt\"\n",
    "    infile = open('my_name.txt', 'r')\n",
    "    \n",
    "    # Reading my name from the file\n",
    "    file_contents = infile.read()\n",
    "    \n",
    "    # Closing the file\n",
    "    infile.close()\n",
    "\n",
    "    # Displaying the data that was read from the file\n",
    "    print(file_contents)\n",
    "\n",
    "# Calling the main function\n",
    "if __name__ == '__main__':\n",
    "    main()"
   ]
  }
 ],
 "metadata": {
  "kernelspec": {
   "display_name": "Python 3 (ipykernel)",
   "language": "python",
   "name": "python3"
  },
  "language_info": {
   "codemirror_mode": {
    "name": "ipython",
    "version": 3
   },
   "file_extension": ".py",
   "mimetype": "text/x-python",
   "name": "python",
   "nbconvert_exporter": "python",
   "pygments_lexer": "ipython3",
   "version": "3.9.6"
  }
 },
 "nbformat": 4,
 "nbformat_minor": 5
}
