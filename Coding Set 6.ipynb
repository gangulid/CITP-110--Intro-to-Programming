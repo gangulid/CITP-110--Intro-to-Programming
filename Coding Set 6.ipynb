{
 "cells": [
  {
   "cell_type": "markdown",
   "id": "1e241908-d3e4-46fe-a7e9-73d0bc023ee0",
   "metadata": {},
   "source": [
    "## Algorithm Workbench - 1"
   ]
  },
  {
   "cell_type": "code",
   "execution_count": 4,
   "id": "02500118-95a7-489b-87eb-6bbb5bcaedb4",
   "metadata": {},
   "outputs": [],
   "source": [
    "# Defining main function\n",
    "def main():\n",
    "    \n",
    "    # Opening file called \"my_name.txt\"\n",
    "    outfile = open('my_name.txt', 'w')\n",
    "    \n",
    "    # Writing my name to the file\n",
    "    outfile.write('Diya\\n')\n",
    "    \n",
    "    # Closing the file\n",
    "    outfile.close()\n",
    "\n",
    "# Calling main function\n",
    "if __name__ == '__main__':\n",
    "    main()"
   ]
  },
  {
   "cell_type": "markdown",
   "id": "57bd1bfa-cfb7-48b7-9e6c-f1756e087d06",
   "metadata": {},
   "source": [
    "## Algorithm Workbench - 2"
   ]
  },
  {
   "cell_type": "code",
   "execution_count": 5,
   "id": "ab077475-dadb-4b91-9684-ee86b0ee0999",
   "metadata": {},
   "outputs": [
    {
     "name": "stdout",
     "output_type": "stream",
     "text": [
      "Diya\n",
      "\n"
     ]
    }
   ],
   "source": [
    "# Defining main function\n",
    "def main():\n",
    "    \n",
    "    # Opening file called \"my_name.txt\"\n",
    "    infile = open('my_name.txt', 'r')\n",
    "    \n",
    "    # Reading my name from the file\n",
    "    file_contents = infile.read()\n",
    "    \n",
    "    # Closing file\n",
    "    infile.close()\n",
    "\n",
    "    # Displaying data that was read from the file\n",
    "    print(file_contents)\n",
    "\n",
    "# Calling main function\n",
    "if __name__ == '__main__':\n",
    "    main()"
   ]
  },
  {
   "cell_type": "markdown",
   "id": "49ac9b20-f5fa-409f-82d1-bf822f4cad98",
   "metadata": {},
   "source": [
    "## Programming Exercise 1 - File Display"
   ]
  },
  {
   "cell_type": "code",
   "execution_count": 9,
   "id": "4ca173e1-91df-4b17-944c-21d2821cd8ed",
   "metadata": {},
   "outputs": [
    {
     "name": "stdout",
     "output_type": "stream",
     "text": [
      "1\n",
      "2\n",
      "3\n",
      "4\n",
      "5\n",
      "6\n",
      "7\n",
      "8\n",
      "9\n",
      "10\n"
     ]
    }
   ],
   "source": [
    "# Defining main function\n",
    "def main():\n",
    "    \n",
    "    # Opening file I created called \"numbers.txt\"\n",
    "    numbers_file = open('numbers.txt', 'r')\n",
    "\n",
    "    # Read each line in the file\n",
    "    for line in numbers_file:\n",
    "\n",
    "        # Convert each line to an integer\n",
    "        number = int(line)\n",
    "       \n",
    "        # Display each line amount\n",
    "        print(number)\n",
    "\n",
    "    # Close file\n",
    "    numbers_file.close()\n",
    "\n",
    "# Calling main function\n",
    "if __name__ == '__main__':\n",
    "    main()"
   ]
  },
  {
   "cell_type": "markdown",
   "id": "f47bc581-7a28-4df9-ab49-db0d9e51e226",
   "metadata": {},
   "source": [
    "## Programming Exercise 6 - Average of Numbers"
   ]
  },
  {
   "cell_type": "code",
   "execution_count": null,
   "id": "207dfe7e-df3a-49ae-84c0-cb25976b8dc3",
   "metadata": {},
   "outputs": [],
   "source": []
  },
  {
   "cell_type": "markdown",
   "id": "f0c6177e-2d49-4475-9be5-9b90f179c727",
   "metadata": {},
   "source": [
    "## Programming Exercise 9 - Exception Handling"
   ]
  },
  {
   "cell_type": "code",
   "execution_count": null,
   "id": "176465df-2ed3-4d63-b971-1a933efb3824",
   "metadata": {},
   "outputs": [],
   "source": []
  },
  {
   "cell_type": "markdown",
   "id": "7f165d16-8d0e-4ec5-9a4b-6912a4933cb6",
   "metadata": {},
   "source": [
    "## Programming Exercise X - TBD"
   ]
  },
  {
   "cell_type": "code",
   "execution_count": null,
   "id": "994f46b5-3e5b-481f-a2cd-b249d72a5540",
   "metadata": {},
   "outputs": [],
   "source": []
  }
 ],
 "metadata": {
  "kernelspec": {
   "display_name": "Python 3 (ipykernel)",
   "language": "python",
   "name": "python3"
  },
  "language_info": {
   "codemirror_mode": {
    "name": "ipython",
    "version": 3
   },
   "file_extension": ".py",
   "mimetype": "text/x-python",
   "name": "python",
   "nbconvert_exporter": "python",
   "pygments_lexer": "ipython3",
   "version": "3.9.6"
  }
 },
 "nbformat": 4,
 "nbformat_minor": 5
}
