{
 "cells": [
  {
   "cell_type": "markdown",
   "id": "4fc69166-a0d7-4fd2-acb6-a557115eec0b",
   "metadata": {},
   "source": [
    "## Algorithm Workbench - 1"
   ]
  },
  {
   "cell_type": "code",
   "execution_count": 10,
   "id": "6bc53bdb-9eaf-40c4-bb87-3909c2f9125a",
   "metadata": {},
   "outputs": [
    {
     "name": "stdin",
     "output_type": "stream",
     "text": [
      "Enter choice:  Y\n"
     ]
    },
    {
     "name": "stdout",
     "output_type": "stream",
     "text": [
      "Y\n"
     ]
    }
   ],
   "source": [
    "# Getting user input for 'choice'\n",
    "choice = input(\"Enter choice: \")\n",
    "\n",
    "# Converting input to lowercase\n",
    "lowercase_choice = choice.lower()\n",
    "\n",
    "# If-loop to print results\n",
    "if lowercase_choice == 'y':\n",
    "    print(choice)"
   ]
  },
  {
   "cell_type": "markdown",
   "id": "02b89ba0-2e6a-422b-8ea6-2a892c6d2c41",
   "metadata": {},
   "source": [
    "## Algorithm Workbench - 10 "
   ]
  },
  {
   "cell_type": "code",
   "execution_count": 3,
   "id": "3a7367e7-9545-4e07-ad30-cde7a87d886a",
   "metadata": {},
   "outputs": [
    {
     "name": "stdout",
     "output_type": "stream",
     "text": [
      "['cookies', 'milk', 'fudge', 'cake', 'ice cream']\n"
     ]
    }
   ],
   "source": [
    "# Defining string\n",
    "mystring = 'cookies>milk>fudge>cake>ice cream'\n",
    "\n",
    "# Splitting string with parameters\n",
    "words = mystring.split()\n",
    "split_list = mystring.split('>')\n",
    "\n",
    "# Displaying new, modified list\n",
    "print(split_list)\n"
   ]
  },
  {
   "cell_type": "markdown",
   "id": "3d94bcbd-f810-44b1-9dc4-f4ca5120a102",
   "metadata": {},
   "source": [
    "## Programming Exercise - 1"
   ]
  },
  {
   "cell_type": "code",
   "execution_count": 2,
   "id": "3364490a-224f-4530-9a86-389e7eed401f",
   "metadata": {},
   "outputs": [
    {
     "name": "stdin",
     "output_type": "stream",
     "text": [
      "Please enter your first, middle, and last names:  Billy Bob Joe\n"
     ]
    },
    {
     "name": "stdout",
     "output_type": "stream",
     "text": [
      "BBJ\n"
     ]
    }
   ],
   "source": [
    "# Getting user input\n",
    "name_string = input(\"Please enter your first, middle, and last names: \")\n",
    "\n",
    "# Splitting initial input into first, middle, and last\n",
    "split_names = name_string.split()\n",
    "\n",
    "first_name = split_names[0]\n",
    "middle_name = split_names[1]\n",
    "last_name = split_names[2]\n",
    "\n",
    "# Collecting only the first character from each name\n",
    "first_initial = first_name[0]\n",
    "middle_initial = middle_name[0]\n",
    "last_initial = last_name[0]\n",
    "\n",
    "# Formatted print statement displaying results\n",
    "print(f'{first_initial}{middle_initial}{last_initial}')\n",
    "     "
   ]
  },
  {
   "cell_type": "markdown",
   "id": "df888c1a-bab1-4bd9-a82f-91f36b470ff9",
   "metadata": {},
   "source": [
    "## Programming Exercise - 2"
   ]
  },
  {
   "cell_type": "code",
   "execution_count": 3,
   "id": "82812f69-ffbd-4ace-9f40-237569e650d9",
   "metadata": {},
   "outputs": [
    {
     "name": "stdin",
     "output_type": "stream",
     "text": [
      "Enter the number:  123456789\n"
     ]
    },
    {
     "name": "stdout",
     "output_type": "stream",
     "text": [
      "45\n"
     ]
    }
   ],
   "source": [
    "# User input\n",
    "number = int(input(\"Enter the number: \"))\n",
    "\n",
    "# Converting int to str\n",
    "number_str = str(number)\n",
    "\n",
    "# Initializing sum at 0 \n",
    "sum = 0\n",
    "\n",
    "# Finding length of number string\n",
    "n = len(number_str)\n",
    "\n",
    "# For loop that calculates sum based on input\n",
    "for i in range(n):\n",
    "    sum = sum + int(number_str[i])\n",
    "\n",
    "print(sum)"
   ]
  },
  {
   "cell_type": "code",
   "execution_count": null,
   "id": "dbdac400-c65c-4642-a961-1d84cafd54b6",
   "metadata": {},
   "outputs": [],
   "source": []
  }
 ],
 "metadata": {
  "kernelspec": {
   "display_name": "Python 3 (ipykernel)",
   "language": "python",
   "name": "python3"
  },
  "language_info": {
   "codemirror_mode": {
    "name": "ipython",
    "version": 3
   },
   "file_extension": ".py",
   "mimetype": "text/x-python",
   "name": "python",
   "nbconvert_exporter": "python",
   "pygments_lexer": "ipython3",
   "version": "3.9.6"
  }
 },
 "nbformat": 4,
 "nbformat_minor": 5
}
