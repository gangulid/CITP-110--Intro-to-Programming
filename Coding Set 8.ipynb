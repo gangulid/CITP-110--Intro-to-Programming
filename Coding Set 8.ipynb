{
 "cells": [
  {
   "cell_type": "markdown",
   "id": "4fc69166-a0d7-4fd2-acb6-a557115eec0b",
   "metadata": {},
   "source": [
    "## Algorithm Workbench - 1"
   ]
  },
  {
   "cell_type": "code",
   "execution_count": 10,
   "id": "6bc53bdb-9eaf-40c4-bb87-3909c2f9125a",
   "metadata": {},
   "outputs": [
    {
     "name": "stdin",
     "output_type": "stream",
     "text": [
      "Enter choice:  Y\n"
     ]
    },
    {
     "name": "stdout",
     "output_type": "stream",
     "text": [
      "Y\n"
     ]
    }
   ],
   "source": [
    "# Getting user input for 'choice'\n",
    "choice = input(\"Enter choice: \")\n",
    "\n",
    "# Converting input to lowercase\n",
    "lowercase_choice = choice.lower()\n",
    "\n",
    "# If-loop to print results\n",
    "if lowercase_choice == 'y':\n",
    "    print(choice)"
   ]
  },
  {
   "cell_type": "markdown",
   "id": "02b89ba0-2e6a-422b-8ea6-2a892c6d2c41",
   "metadata": {},
   "source": [
    "## Algorithm Workbench - 10 "
   ]
  },
  {
   "cell_type": "code",
   "execution_count": 3,
   "id": "3a7367e7-9545-4e07-ad30-cde7a87d886a",
   "metadata": {},
   "outputs": [
    {
     "name": "stdout",
     "output_type": "stream",
     "text": [
      "['cookies', 'milk', 'fudge', 'cake', 'ice cream']\n"
     ]
    }
   ],
   "source": [
    "# Defining string\n",
    "mystring = 'cookies>milk>fudge>cake>ice cream'\n",
    "\n",
    "# Splitting string with parameters\n",
    "words = mystring.split()\n",
    "split_list = mystring.split('>')\n",
    "\n",
    "# Displaying new, modified list\n",
    "print(split_list)\n"
   ]
  },
  {
   "cell_type": "markdown",
   "id": "3d94bcbd-f810-44b1-9dc4-f4ca5120a102",
   "metadata": {},
   "source": [
    "## Programming Exercise - 1"
   ]
  },
  {
   "cell_type": "code",
   "execution_count": 2,
   "id": "3364490a-224f-4530-9a86-389e7eed401f",
   "metadata": {},
   "outputs": [
    {
     "name": "stdin",
     "output_type": "stream",
     "text": [
      "Please enter your first, middle, and last names:  Billy Bob Joe\n"
     ]
    },
    {
     "name": "stdout",
     "output_type": "stream",
     "text": [
      "BBJ\n"
     ]
    }
   ],
   "source": [
    "# Getting user input\n",
    "name_string = input(\"Please enter your first, middle, and last names: \")\n",
    "\n",
    "# Splitting initial input into first, middle, and last\n",
    "split_names = name_string.split()\n",
    "\n",
    "first_name = split_names[0]\n",
    "middle_name = split_names[1]\n",
    "last_name = split_names[2]\n",
    "\n",
    "# Collecting only the first character from each name\n",
    "first_initial = first_name[0]\n",
    "middle_initial = middle_name[0]\n",
    "last_initial = last_name[0]\n",
    "\n",
    "# Formatted print statement displaying results\n",
    "print(f'{first_initial}{middle_initial}{last_initial}')\n",
    "     "
   ]
  },
  {
   "cell_type": "markdown",
   "id": "df888c1a-bab1-4bd9-a82f-91f36b470ff9",
   "metadata": {},
   "source": [
    "## Programming Exercise - 2"
   ]
  },
  {
   "cell_type": "code",
   "execution_count": 3,
   "id": "82812f69-ffbd-4ace-9f40-237569e650d9",
   "metadata": {},
   "outputs": [
    {
     "name": "stdin",
     "output_type": "stream",
     "text": [
      "Enter the number:  123456789\n"
     ]
    },
    {
     "name": "stdout",
     "output_type": "stream",
     "text": [
      "45\n"
     ]
    }
   ],
   "source": [
    "# User input\n",
    "number = int(input(\"Enter the number: \"))\n",
    "\n",
    "# Converting int to str\n",
    "number_str = str(number)\n",
    "\n",
    "# Initializing sum at 0 \n",
    "sum = 0\n",
    "\n",
    "# Finding length of number string\n",
    "n = len(number_str)\n",
    "\n",
    "# For loop that calculates sum based on input\n",
    "for i in range(n):\n",
    "    sum = sum + int(number_str[i])\n",
    "\n",
    "# Displaying results\n",
    "print(sum)"
   ]
  },
  {
   "cell_type": "markdown",
   "id": "763f2253-edfa-45af-8bd5-617231080154",
   "metadata": {},
   "source": [
    "## Programming Exercise - 3"
   ]
  },
  {
   "cell_type": "code",
   "execution_count": 14,
   "id": "ccf52f31-b4ae-4aaa-ba83-9460151521b9",
   "metadata": {},
   "outputs": [
    {
     "name": "stdin",
     "output_type": "stream",
     "text": [
      "Enter a date mm/dd/yyyy:  09/24/2005\n"
     ]
    },
    {
     "name": "stdout",
     "output_type": "stream",
     "text": [
      "September 24, 2005\n"
     ]
    }
   ],
   "source": [
    "# Gathering user input and converting to string\n",
    "date = input(\"Enter a date mm/dd/yyyy: \")\n",
    "date_str = str(date)\n",
    "\n",
    "# Splitting input statement into 'month' 'day' 'year'\n",
    "split_date = date_str.split('/')\n",
    "\n",
    "# List of months\n",
    "months = [ 'January', 'Feburary', 'March', 'April', 'May', 'June', 'July', 'August',\n",
    "         'September', 'October', 'November', 'December']\n",
    "\n",
    "# Calling the specific month name per user input\n",
    "month_no = split_date[0]\n",
    "month_int = int(month_no) - 1\n",
    "\n",
    "month = months[month_int]\n",
    "\n",
    "# Formatted print statment displaying results\n",
    "print(f'{month} {split_date[1]}, {split_date[2]}')\n"
   ]
  },
  {
   "cell_type": "markdown",
   "id": "ef408d33-d351-403e-ae65-49056deb0658",
   "metadata": {},
   "source": [
    "## Programming Exercise - 12"
   ]
  },
  {
   "cell_type": "code",
   "execution_count": 26,
   "id": "f15416f5-fcf9-4efc-8513-dc35adc16d27",
   "metadata": {},
   "outputs": [
    {
     "name": "stdin",
     "output_type": "stream",
     "text": [
      "Enter a sentence:  this is my last problem\n"
     ]
    },
    {
     "name": "stdout",
     "output_type": "stream",
     "text": [
      "histay siay ymay astlay roblempay \n"
     ]
    }
   ],
   "source": [
    "# Initializing string\n",
    "pig_latin = \"\"\n",
    "\n",
    "# User input\n",
    "english = input(\"Enter a sentence: \")\n",
    "\n",
    "# Splitting sentence into individual words\n",
    "split_english = english.split()\n",
    "n = len(split_english)\n",
    "\n",
    "# Converting to pig latin\n",
    "for i in range(n):\n",
    "    word = split_english[i]\n",
    "    first_letter = word[0]\n",
    "    remaining_letters = word[1:]\n",
    "    pig_latin = pig_latin + remaining_letters + first_letter + \"ay \"\n",
    "    \n",
    "   \n",
    "# Displaying conversion\n",
    "print(pig_latin)"
   ]
  }
 ],
 "metadata": {
  "kernelspec": {
   "display_name": "Python 3 (ipykernel)",
   "language": "python",
   "name": "python3"
  },
  "language_info": {
   "codemirror_mode": {
    "name": "ipython",
    "version": 3
   },
   "file_extension": ".py",
   "mimetype": "text/x-python",
   "name": "python",
   "nbconvert_exporter": "python",
   "pygments_lexer": "ipython3",
   "version": "3.9.6"
  }
 },
 "nbformat": 4,
 "nbformat_minor": 5
}
