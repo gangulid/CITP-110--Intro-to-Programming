{
 "cells": [
  {
   "cell_type": "markdown",
   "id": "82026453-6b5b-4816-886e-e4fafb26aac2",
   "metadata": {},
   "source": [
    "# Exercise 1"
   ]
  },
  {
   "cell_type": "code",
   "execution_count": 1,
   "id": "a3659258-fdc9-41f9-bfa2-97a7bea892fc",
   "metadata": {},
   "outputs": [
    {
     "name": "stdout",
     "output_type": "stream",
     "text": [
      "This is a test of the Python interpreter.\n"
     ]
    }
   ],
   "source": [
    "print('This is a test of the Python interpreter.')"
   ]
  },
  {
   "cell_type": "code",
   "execution_count": 2,
   "id": "f0e89021-219f-41eb-9e69-85ede74c9ff9",
   "metadata": {},
   "outputs": [
    {
     "name": "stdout",
     "output_type": "stream",
     "text": [
      "This might work: 9\n"
     ]
    }
   ],
   "source": [
    "print('This might work:',9)"
   ]
  },
  {
   "cell_type": "code",
   "execution_count": 3,
   "id": "5c2f2496-a80f-4ee8-8b0b-f0999adb9f0f",
   "metadata": {},
   "outputs": [
    {
     "name": "stdout",
     "output_type": "stream",
     "text": [
      "Hello world.\n"
     ]
    }
   ],
   "source": [
    "print('Hello world.')"
   ]
  },
  {
   "cell_type": "markdown",
   "id": "1e9a5074-14e4-425d-90f6-d100cbeb6430",
   "metadata": {},
   "source": [
    "# Exercise 2"
   ]
  },
  {
   "cell_type": "code",
   "execution_count": null,
   "id": "9cfaee47-a14a-4f08-a9c3-02aa9eee25a0",
   "metadata": {},
   "outputs": [],
   "source": []
  }
 ],
 "metadata": {
  "kernelspec": {
   "display_name": "Python 3 (ipykernel)",
   "language": "python",
   "name": "python3"
  },
  "language_info": {
   "codemirror_mode": {
    "name": "ipython",
    "version": 3
   },
   "file_extension": ".py",
   "mimetype": "text/x-python",
   "name": "python",
   "nbconvert_exporter": "python",
   "pygments_lexer": "ipython3",
   "version": "3.9.6"
  }
 },
 "nbformat": 4,
 "nbformat_minor": 5
}
