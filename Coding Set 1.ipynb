{
 "cells": [
  {
   "cell_type": "markdown",
   "id": "82026453-6b5b-4816-886e-e4fafb26aac2",
   "metadata": {},
   "source": [
    "# Exercise 1 - Testing Interpreter"
   ]
  },
  {
   "cell_type": "code",
   "execution_count": 1,
   "id": "a3659258-fdc9-41f9-bfa2-97a7bea892fc",
   "metadata": {},
   "outputs": [
    {
     "name": "stdout",
     "output_type": "stream",
     "text": [
      "This is a test of the Python interpreter.\n"
     ]
    }
   ],
   "source": [
    "# print statement \n",
    "print('This is a test of the Python interpreter.')"
   ]
  },
  {
   "cell_type": "code",
   "execution_count": 3,
   "id": "f0e89021-219f-41eb-9e69-85ede74c9ff9",
   "metadata": {},
   "outputs": [
    {
     "name": "stdout",
     "output_type": "stream",
     "text": [
      "This might work: 9\n"
     ]
    }
   ],
   "source": [
    "# print statement\n",
    "print('This might work:',9)"
   ]
  },
  {
   "cell_type": "code",
   "execution_count": 2,
   "id": "5c2f2496-a80f-4ee8-8b0b-f0999adb9f0f",
   "metadata": {},
   "outputs": [
    {
     "name": "stdout",
     "output_type": "stream",
     "text": [
      "Hello world.\n"
     ]
    }
   ],
   "source": [
    "# print statement\n",
    "print('Hello world.')"
   ]
  },
  {
   "cell_type": "markdown",
   "id": "1e9a5074-14e4-425d-90f6-d100cbeb6430",
   "metadata": {},
   "source": [
    "# Exercise 3 - Converting Binary Numbers"
   ]
  },
  {
   "cell_type": "markdown",
   "id": "11a54e49-a943-4c67-94df-7308ba652d9a",
   "metadata": {},
   "source": [
    "11 -->  1011\n",
    "Proof: (1 x 2^0) + (1 x 2^1) + (0 x 2^2) + (1 x 2^3) = 1 + 2 + 0 + 8 = 11\n",
    "\n",
    "65 --> 1000001\n",
    "Proof: (1 x 2^0) + (0 x 2^1) + (0 x 2^2) + (0 x 2^3) + (0 x 2^4) + (0 x 2^5) + (1 x 2^6) = 1 + 64 = 65\n",
    "\n",
    "100 --> 1100100\n",
    "Proof: (0 x 2^0) + (0 x 2^1) + (1 x 2^2) + (0 x 2^3) + (0 x 2^4) + (1 x 2^5) + (1 x 2^6) = 4 + 32 + 64 = 100\n",
    "\n",
    "255 --> 11111111\n",
    "Proof: (1 x 2^0) + (1 x 2^1) + (1 x 2^2) + (1 x 2^3) + (1 x 2^4) + (1 x 2^5) + (1 x 2^6) + (1 x 2^7) = 1 + 2 + 4 + 8 + 16 + 32 + 64 + 128 = 255"
   ]
  },
  {
   "cell_type": "markdown",
   "id": "23301668-f8fb-45e2-ab6d-0cf420479d65",
   "metadata": {},
   "source": [
    "# Exercise 6 - Python History"
   ]
  },
  {
   "cell_type": "markdown",
   "id": "39de654d-f7ac-437d-a1b3-e356aab33b25",
   "metadata": {},
   "source": [
    "1. Guido van Rossum\n",
    "2. February 20, 1991\n",
    "3. BDLF stands for \"Benevolent Dictator For Life\", meaning the title-holder has ultimate authority on decisions regarding the language.\n",
    "\n",
    "###### Works Cited: https://en.wikipedia.org/wiki/Python_(programming_language) "
   ]
  }
 ],
 "metadata": {
  "kernelspec": {
   "display_name": "Python 3 (ipykernel)",
   "language": "python",
   "name": "python3"
  },
  "language_info": {
   "codemirror_mode": {
    "name": "ipython",
    "version": 3
   },
   "file_extension": ".py",
   "mimetype": "text/x-python",
   "name": "python",
   "nbconvert_exporter": "python",
   "pygments_lexer": "ipython3",
   "version": "3.9.6"
  }
 },
 "nbformat": 4,
 "nbformat_minor": 5
}
