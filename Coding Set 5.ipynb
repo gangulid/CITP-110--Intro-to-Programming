{
 "cells": [
  {
   "cell_type": "markdown",
   "id": "5a6caf09-2483-40fc-8e69-ee58dc6f6577",
   "metadata": {},
   "source": [
    "## Algorithm Workbench 1 - Times_Ten"
   ]
  },
  {
   "cell_type": "code",
   "execution_count": null,
   "id": "8d1932e7-34cd-485c-bbca-0515bb209dd2",
   "metadata": {},
   "outputs": [],
   "source": [
    "# defining the function\n",
    "def times_ten(x):\n",
    "    y = 10 * x\n",
    "    return y \n",
    "\n",
    "# calling th\n",
    "num = float(input(\"Enter a number: \"))\n",
    "num2 = times_ten (num)\n",
    "\n",
    "print(\"Product is: \" + str(num2))"
   ]
  },
  {
   "cell_type": "markdown",
   "id": "4160bf6a-c17a-427c-938d-c51aa8649ede",
   "metadata": {},
   "source": [
    "##  Algorithm Workbench - X"
   ]
  },
  {
   "cell_type": "code",
   "execution_count": null,
   "id": "64964ab0-0a48-4eb4-91b6-5894a26a4cd3",
   "metadata": {},
   "outputs": [],
   "source": []
  },
  {
   "cell_type": "markdown",
   "id": "e32f9665-a622-4348-8fbb-e680aa4aea0e",
   "metadata": {},
   "source": [
    "## Programming Exercise 1 - Kilometer Converter"
   ]
  },
  {
   "cell_type": "code",
   "execution_count": null,
   "id": "568b2358-86ac-4126-bce1-2ce8904308da",
   "metadata": {},
   "outputs": [],
   "source": []
  },
  {
   "cell_type": "markdown",
   "id": "e73cbb41-447f-4049-aa12-6c8afd76e544",
   "metadata": {},
   "source": [
    "## Programming Exercise 16 - Prime Numbers"
   ]
  },
  {
   "cell_type": "code",
   "execution_count": null,
   "id": "1a7d5fa8-3e2f-417d-81e1-3b8e6902c67c",
   "metadata": {},
   "outputs": [],
   "source": []
  },
  {
   "cell_type": "markdown",
   "id": "eb8ac076-3579-4b96-9ad1-8828b39c94b9",
   "metadata": {},
   "source": [
    "## Programming Exercise 17 - Prime Number List"
   ]
  },
  {
   "cell_type": "code",
   "execution_count": null,
   "id": "f02cb6c3-c80a-40f8-ab02-8d2e64811811",
   "metadata": {},
   "outputs": [],
   "source": []
  },
  {
   "cell_type": "markdown",
   "id": "25237a36-f3d3-4fa5-a019-fa828dc0a38d",
   "metadata": {},
   "source": [
    "## Programming Exercise XX - XXXXXXXXX"
   ]
  },
  {
   "cell_type": "code",
   "execution_count": null,
   "id": "02b10d02-d00f-4b1a-b9bf-a392cebf2ee1",
   "metadata": {},
   "outputs": [],
   "source": []
  }
 ],
 "metadata": {
  "kernelspec": {
   "display_name": "Python 3 (ipykernel)",
   "language": "python",
   "name": "python3"
  },
  "language_info": {
   "codemirror_mode": {
    "name": "ipython",
    "version": 3
   },
   "file_extension": ".py",
   "mimetype": "text/x-python",
   "name": "python",
   "nbconvert_exporter": "python",
   "pygments_lexer": "ipython3",
   "version": "3.9.6"
  }
 },
 "nbformat": 4,
 "nbformat_minor": 5
}
