{
 "cells": [
  {
   "cell_type": "markdown",
   "id": "5a6caf09-2483-40fc-8e69-ee58dc6f6577",
   "metadata": {},
   "source": [
    "## Algorithm Workbench 1 - Times_Ten"
   ]
  },
  {
   "cell_type": "code",
   "execution_count": 15,
   "id": "8d1932e7-34cd-485c-bbca-0515bb209dd2",
   "metadata": {},
   "outputs": [
    {
     "name": "stdin",
     "output_type": "stream",
     "text": [
      "Enter a number:  20\n"
     ]
    },
    {
     "name": "stdout",
     "output_type": "stream",
     "text": [
      "Product is: 200.0\n"
     ]
    }
   ],
   "source": [
    "# defining the function\n",
    "def times_ten(x):\n",
    "    y = 10 * x\n",
    "    return y \n",
    "\n",
    "# user input\n",
    "num = float(input(\"Enter a number: \"))\n",
    "\n",
    "# calling the function\n",
    "product = times_ten (num)\n",
    "\n",
    "# displaying answer\n",
    "print(\"Product is: \" + str(product))"
   ]
  },
  {
   "cell_type": "markdown",
   "id": "4160bf6a-c17a-427c-938d-c51aa8649ede",
   "metadata": {},
   "source": [
    "##  Algorithm Workbench 2 - Function Header"
   ]
  },
  {
   "cell_type": "code",
   "execution_count": 12,
   "id": "64964ab0-0a48-4eb4-91b6-5894a26a4cd3",
   "metadata": {},
   "outputs": [
    {
     "name": "stdout",
     "output_type": "stream",
     "text": [
      "12\n"
     ]
    }
   ],
   "source": [
    "# defining show_value, assuming it prints the input\n",
    "def show_value(quantity):\n",
    "    print(quantity)\n",
    "\n",
    "# calls function with an argument of 12\n",
    "show_value(12)"
   ]
  },
  {
   "cell_type": "markdown",
   "id": "e32f9665-a622-4348-8fbb-e680aa4aea0e",
   "metadata": {},
   "source": [
    "## Programming Exercise 1 - Kilometer Converter"
   ]
  },
  {
   "cell_type": "code",
   "execution_count": 16,
   "id": "568b2358-86ac-4126-bce1-2ce8904308da",
   "metadata": {},
   "outputs": [
    {
     "name": "stdin",
     "output_type": "stream",
     "text": [
      "Enter distance in kilometers:  500\n"
     ]
    },
    {
     "name": "stdout",
     "output_type": "stream",
     "text": [
      "Distance in miles is: 310.7\n"
     ]
    }
   ],
   "source": [
    "# defining function for conversion\n",
    "def km_to_mi(distance_km):\n",
    "    distance_mi = distance_km * 0.6214\n",
    "    return distance_mi\n",
    "\n",
    "# user input\n",
    "distance_km = float(input(\"Enter distance in kilometers: \"))\n",
    "\n",
    "# calling function\n",
    "distance_mi = km_to_mi(distance_km)\n",
    "\n",
    "# displaying output\n",
    "print(\"Distance in miles is: \" + str(distance_mi))\n"
   ]
  },
  {
   "cell_type": "markdown",
   "id": "e73cbb41-447f-4049-aa12-6c8afd76e544",
   "metadata": {},
   "source": [
    "## Programming Exercise 16 - Prime Numbers"
   ]
  },
  {
   "cell_type": "code",
   "execution_count": 25,
   "id": "1a7d5fa8-3e2f-417d-81e1-3b8e6902c67c",
   "metadata": {},
   "outputs": [
    {
     "name": "stdin",
     "output_type": "stream",
     "text": [
      "Enter a positive integer:  23\n"
     ]
    },
    {
     "name": "stdout",
     "output_type": "stream",
     "text": [
      "The number is prime.\n"
     ]
    }
   ],
   "source": [
    "# defining function\n",
    "def is_prime(num):\n",
    "    answer = True \n",
    "    for div in range(2,num-1):\n",
    "        rem = num % div\n",
    "        if rem == 0:\n",
    "            answer = False\n",
    "    return answer\n",
    "\n",
    "# user input\n",
    "num = int(input(\"Enter a positive integer: \"))\n",
    "\n",
    "# calling function\n",
    "answer = is_prime(num) \n",
    "\n",
    "# displaying output\n",
    "if answer == True:\n",
    "    print(\"The number is prime.\")\n",
    "else:\n",
    "    print(\"The number is not prime.\")\n",
    "\n"
   ]
  },
  {
   "cell_type": "markdown",
   "id": "eb8ac076-3579-4b96-9ad1-8828b39c94b9",
   "metadata": {},
   "source": [
    "## Programming Exercise 17 - Prime Number List"
   ]
  },
  {
   "cell_type": "code",
   "execution_count": 27,
   "id": "f02cb6c3-c80a-40f8-ab02-8d2e64811811",
   "metadata": {},
   "outputs": [
    {
     "name": "stdout",
     "output_type": "stream",
     "text": [
      "1\n",
      "2\n",
      "3\n",
      "5\n",
      "7\n",
      "11\n",
      "13\n",
      "17\n",
      "19\n",
      "23\n",
      "29\n",
      "31\n",
      "37\n",
      "41\n",
      "43\n",
      "47\n",
      "53\n",
      "59\n",
      "61\n",
      "67\n",
      "71\n",
      "73\n",
      "79\n",
      "83\n",
      "89\n",
      "97\n"
     ]
    }
   ],
   "source": [
    "# defining Function\n",
    "def is_prime(num):\n",
    "    answer = True \n",
    "    for div in range(2,num-1):\n",
    "        rem = num % div\n",
    "        if rem == 0:\n",
    "            answer = False\n",
    "    return answer\n",
    "\n",
    "# calling function and displaying result\n",
    "for num in range(1,100):\n",
    "    answer = is_prime(num)\n",
    "    if answer == True:\n",
    "        print(num)"
   ]
  },
  {
   "cell_type": "markdown",
   "id": "25237a36-f3d3-4fa5-a019-fa828dc0a38d",
   "metadata": {},
   "source": [
    "## Programming Exercise 20 - Rock, Paper, Scissors"
   ]
  },
  {
   "cell_type": "code",
   "execution_count": 3,
   "id": "8430509a-d5bd-4a48-a3dc-091e7ea18d5c",
   "metadata": {},
   "outputs": [],
   "source": [
    "import random"
   ]
  },
  {
   "cell_type": "code",
   "execution_count": 8,
   "id": "02b10d02-d00f-4b1a-b9bf-a392cebf2ee1",
   "metadata": {},
   "outputs": [
    {
     "name": "stdin",
     "output_type": "stream",
     "text": [
      "Input Rock (1), Paper (2), or Scissors (3)? 2\n"
     ]
    },
    {
     "name": "stdout",
     "output_type": "stream",
     "text": [
      "2\n",
      "Draw - Try Again!\n"
     ]
    },
    {
     "name": "stdin",
     "output_type": "stream",
     "text": [
      "Input Rock (1), Paper (2), or Scissors (3)? 1\n"
     ]
    },
    {
     "name": "stdout",
     "output_type": "stream",
     "text": [
      "1\n",
      "Draw - Try Again!\n"
     ]
    },
    {
     "name": "stdin",
     "output_type": "stream",
     "text": [
      "Input Rock (1), Paper (2), or Scissors (3)? 3\n"
     ]
    },
    {
     "name": "stdout",
     "output_type": "stream",
     "text": [
      "3\n",
      "Draw - Try Again!\n"
     ]
    },
    {
     "name": "stdin",
     "output_type": "stream",
     "text": [
      "Input Rock (1), Paper (2), or Scissors (3)? 2\n"
     ]
    },
    {
     "name": "stdout",
     "output_type": "stream",
     "text": [
      "3\n",
      "Scissors cut paper - You Lose!\n"
     ]
    }
   ],
   "source": [
    "# while loop check variable\n",
    "play_again = True\n",
    "\n",
    "while play_again == True:\n",
    "    # computer choice\n",
    "    computer_choice = random.randint(1,3)\n",
    "    \n",
    "    # user choice\n",
    "    user_choice = int(input(\"Input Rock (1), Paper (2), or Scissors (3)?\"))\n",
    "\n",
    "    # displaying computer choice\n",
    "    print(computer_choice)\n",
    "\n",
    "    # if loop\n",
    "    if computer_choice == 1 and user_choice == 3:\n",
    "        print(\"Rock smashes scissors - You Lose!\")\n",
    "        play_again = False \n",
    "    elif computer_choice == 3 and user_choice == 1:\n",
    "        print(\"Rock smashes scissors - You Win!\")\n",
    "        play_again = False \n",
    "    elif computer_choice == 2 and user_choice == 1:\n",
    "        print(\"Paper wraps rock - You Lose!\")\n",
    "        play_again = False \n",
    "    elif computer_choice == 1 and user_choice == 2:\n",
    "        print(\"Paper wraps rock - You Win!\")\n",
    "        play_again = False \n",
    "    elif computer_choice == 3 and user_choice == 2:\n",
    "        print(\"Scissors cut paper - You Lose!\")\n",
    "        play_again = False \n",
    "    elif computer_choice == 2 and user_choice == 3:\n",
    "        print(\"Scissors cut paper - You Win!\")\n",
    "        play_again = False \n",
    "    else:\n",
    "        print(\"Draw - Try Again!\")\n",
    "        play_again = True"
   ]
  },
  {
   "cell_type": "code",
   "execution_count": null,
   "id": "84f5dde3-8cd1-4eaa-8d0e-f880dd15a546",
   "metadata": {},
   "outputs": [],
   "source": []
  }
 ],
 "metadata": {
  "kernelspec": {
   "display_name": "Python 3 (ipykernel)",
   "language": "python",
   "name": "python3"
  },
  "language_info": {
   "codemirror_mode": {
    "name": "ipython",
    "version": 3
   },
   "file_extension": ".py",
   "mimetype": "text/x-python",
   "name": "python",
   "nbconvert_exporter": "python",
   "pygments_lexer": "ipython3",
   "version": "3.9.6"
  }
 },
 "nbformat": 4,
 "nbformat_minor": 5
}
