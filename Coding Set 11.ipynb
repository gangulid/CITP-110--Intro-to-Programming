{
 "cells": [
  {
   "cell_type": "markdown",
   "id": "d3fdc77a-1fcc-48a2-99e8-2d2749d8f03c",
   "metadata": {},
   "source": [
    "## 1 - Programming Exercise: Employee and ProductionWorker Classes"
   ]
  },
  {
   "cell_type": "code",
   "execution_count": 2,
   "id": "5f16f566-b380-487d-93bd-5ba7eb799bfd",
   "metadata": {},
   "outputs": [
    {
     "name": "stdin",
     "output_type": "stream",
     "text": [
      "Enter employee name:  Diya Ganguli\n",
      "Enter employee number:  1234567890\n",
      "Enter shift number (1 for day shift, 2 for night shift):  2\n",
      "Enter hourly pay rate:  14.5\n"
     ]
    },
    {
     "name": "stdout",
     "output_type": "stream",
     "text": [
      "Employee Data\n",
      "Name: Diya Ganguli\n",
      "Number: 1234567890\n",
      "Shift: Night\n",
      "Hourly Pay Rate: $ 14.5\n"
     ]
    }
   ],
   "source": [
    "# Creating class name \"Employee\"\n",
    "class Employee:\n",
    "    \n",
    "    # __init__ method initializes the data attributes\n",
    "    def __init__(self, name='', number=''):\n",
    "        self.__name = name\n",
    "        self.__number = number\n",
    "        \n",
    "    # Creating methods of assigning and returning values \n",
    "    def set_name(self, name):\n",
    "        self.__name = name\n",
    "\n",
    "    def set_number(self, number):\n",
    "        self.__number = number\n",
    "    \n",
    "    def get_name(self):\n",
    "        return self.__name\n",
    "\n",
    "    def get_number(self):\n",
    "        return self.__number\n",
    "        \n",
    "# Creating subclass name \"ProductionWorker\"\n",
    "class ProductionWorker(Employee):\n",
    "\n",
    "    # __init__ method initializes the data attributes\n",
    "    def __init__(self, name='', number='', shift=1, hourly_pay_rate=0.0):\n",
    "        super().__init__(name, number)\n",
    "        self.__shift = shift\n",
    "        self.__hourly_pay_rate = hourly_pay_rate\n",
    "        \n",
    "    # Creating methods of assigning and returning values\n",
    "    def set_shift(self, shift):\n",
    "        self.__shift = shift\n",
    "\n",
    "    def set_hourly_pay_rate(self, hourly_pay_rate):\n",
    "        self.__hourly_pay_rate = hourly_pay_rate\n",
    "\n",
    "    def get_shift(self):\n",
    "        return self.__shift\n",
    "\n",
    "    def get_hourly_pay_rate(self):\n",
    "        return self.__hourly_pay_rate\n",
    "\n",
    "# Creating Main Function\n",
    "def main():\n",
    "\n",
    "    # Get employee data from user\n",
    "    name = input(\"Enter employee name: \")\n",
    "    number = int(input(\"Enter employee number: \"))\n",
    "    shift = int(input(\"Enter shift number (1 for day shift, 2 for night shift): \"))\n",
    "    hourly_pay_rate = float(input(\"Enter hourly pay rate: \"))\n",
    "\n",
    "    # Create a ProductionWorker object\n",
    "    worker = ProductionWorker(name, number, shift, hourly_pay_rate)\n",
    "\n",
    "    # Display the employee's data\n",
    "    print(\"Employee Data\")\n",
    "    print(\"Name:\", worker.get_name())\n",
    "    print(\"Number:\", worker.get_number())\n",
    "    print(\"Shift:\", 'Day' if worker.get_shift() == 1 else 'Night')\n",
    "    print(\"Hourly Pay Rate: $\", worker.get_hourly_pay_rate())\n",
    "\n",
    "# Call main function\n",
    "if __name__ == '__main__':\n",
    "    main()\n"
   ]
  },
  {
   "cell_type": "markdown",
   "id": "af4234ac-1cee-4e01-aa88-1b061daec3e3",
   "metadata": {},
   "source": [
    "## 2 - Programming Exercise: ShiftSupervisor Class"
   ]
  },
  {
   "cell_type": "code",
   "execution_count": 6,
   "id": "a00f6fd3-7d6b-495c-b716-e7202cf30542",
   "metadata": {},
   "outputs": [
    {
     "name": "stdin",
     "output_type": "stream",
     "text": [
      "Enter supervisor name:  Diya Ganguli\n",
      "Enter supervisor number:  1234567890\n",
      "Enter annual salary:  200000\n",
      "Enter annual bonus:  5000\n"
     ]
    },
    {
     "name": "stdout",
     "output_type": "stream",
     "text": [
      "Supervisor Data\n",
      "Name: Diya Ganguli\n",
      "Number: 1234567890\n",
      "Annual Salary: $ 5000.0\n"
     ]
    }
   ],
   "source": [
    "# Creating class name \"Employee\"\n",
    "class Employee:\n",
    "    \n",
    "    # __init__ method initializes the data attributes\n",
    "    def __init__(self, name='', number=''):\n",
    "        self.__name = name\n",
    "        self.__number = number\n",
    "        \n",
    "    # Creating methods of assigning and returning values \n",
    "    def set_name(self, name):\n",
    "        self.__name = name\n",
    "\n",
    "    def set_number(self, number):\n",
    "        self.__number = number\n",
    "    \n",
    "    def get_name(self):\n",
    "        return self.__name\n",
    "\n",
    "    def get_number(self):\n",
    "        return self.__number\n",
    "\n",
    "# Create subclass name \"ShiftSupervisor\"\n",
    "class ShiftSupervisor(Employee):\n",
    "\n",
    "    # __init__ method initializes the data attributes\n",
    "    def __init__(self, name='', number='', annual_salary=0.0, annual_bonus=0.0):\n",
    "        super().__init__(name, number)\n",
    "        self.__annual_salary = annual_salary\n",
    "        self.__annual_bonus = annual_bonus\n",
    "\n",
    "    # Creating methods of assigning and returning values\n",
    "    def set_annual_salary(self, annual_salary):\n",
    "        self.__annual_salary = annual_salary\n",
    "\n",
    "    def set_annual_bonus(self, annual_bonus):\n",
    "        self.__annual_bonus = annual_bonus\n",
    "\n",
    "    def get_annual_salary(self):\n",
    "        return self.__annual_salary\n",
    "\n",
    "    def get_annual_bonus(self):\n",
    "        return self.__annual_bonus\n",
    "\n",
    "# Creating Main Function\n",
    "def main():\n",
    "\n",
    "    # Get supervisor data from user\n",
    "    name = input(\"Enter supervisor name: \")\n",
    "    number = input(\"Enter supervisor number: \")\n",
    "    annual_salary = float(input(\"Enter annual salary: \"))\n",
    "    annual_bonus = float(input(\"Enter annual bonus: \"))\n",
    "\n",
    "    # Create ShiftSupervisor object\n",
    "    supervisor = ShiftSupervisor(name, number, annual_salary, annual_bonus)\n",
    "\n",
    "    # Display the supervisor's data\n",
    "    print(\"Supervisor Data\")\n",
    "    print(\"Name:\", supervisor.get_name())\n",
    "    print(\"Number:\", supervisor.get_number())\n",
    "    print(\"Annual Salary: $\", supervisor.get_annual_bonus())\n",
    "\n",
    "# Call main function\n",
    "if __name__ == '__main__':\n",
    "    main()\n"
   ]
  },
  {
   "cell_type": "code",
   "execution_count": null,
   "id": "ccc75640-218e-4eaa-81cc-edbb222ce1ed",
   "metadata": {},
   "outputs": [],
   "source": []
  }
 ],
 "metadata": {
  "kernelspec": {
   "display_name": "Python 3 (ipykernel)",
   "language": "python",
   "name": "python3"
  },
  "language_info": {
   "codemirror_mode": {
    "name": "ipython",
    "version": 3
   },
   "file_extension": ".py",
   "mimetype": "text/x-python",
   "name": "python",
   "nbconvert_exporter": "python",
   "pygments_lexer": "ipython3",
   "version": "3.9.6"
  }
 },
 "nbformat": 4,
 "nbformat_minor": 5
}
