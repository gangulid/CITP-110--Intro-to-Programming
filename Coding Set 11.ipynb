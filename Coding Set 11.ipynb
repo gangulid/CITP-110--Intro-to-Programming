{
 "cells": [
  {
   "cell_type": "markdown",
   "id": "d3fdc77a-1fcc-48a2-99e8-2d2749d8f03c",
   "metadata": {},
   "source": [
    "## 1 - Programming Exercise: Employee and ProductionWorker Classes"
   ]
  },
  {
   "cell_type": "code",
   "execution_count": null,
   "id": "5f16f566-b380-487d-93bd-5ba7eb799bfd",
   "metadata": {},
   "outputs": [],
   "source": [
    "# Creating class name \"Employee\"\n",
    "class Employee:\n",
    "    \n",
    "    # __init__ method initializes the data attributes\n",
    "    def __init__(self, name='', number=''):\n",
    "        self.__name = name\n",
    "        self.__number = number\n",
    "        \n",
    "    # Creating methods of assigning and returning values \n",
    "    def set_name(self, name):\n",
    "        self.__name = name\n",
    "\n",
    "    def set_number(self, number):\n",
    "        self.__number = number\n",
    "    \n",
    "    def get_name(self):\n",
    "        return self.__name\n",
    "\n",
    "    def get_number(self):\n",
    "        return self.__number\n",
    "        \n",
    "# Creating subclass name \"ProductionWorker\"\n",
    "class ProductionWorker(Employee):\n",
    "\n",
    "    # __init__ method initializes the data attributes\n",
    "    def __init__(self, name='', number,='', shift=1, hourly_pay_rate=0.0):\n",
    "        super().__init__(name, number)\n",
    "        self.__shift = shift\n",
    "        self.__hourly_pay_rate = hourly_pay_rate\n",
    "        \n",
    "    # Creating methods of assigning and returning values\n",
    "    def set_shift(self, shift):\n",
    "        self.__shift = shift\n",
    "\n",
    "    def set_hourly_pay_rate(self, hourly_pay_rate):\n",
    "        self.__hourly_pay_rate = hourly_pay_rate\n",
    "\n",
    "    def get_shift(self):\n",
    "        return self.__shift\n",
    "\n",
    "    def get_hourly_pay_rate(self):\n",
    "        return self.__hourly_pay_rate\n",
    "\n",
    "# Creating Main Function\n",
    "def main():\n",
    "\n",
    "    # Get employee data from user\n",
    "    name = input(\"Enter employee name: \")\n",
    "    number = int(input(\"Enter employee number: \"))\n",
    "    shift = int(input(\"Enter shift number (1 for day shift, 2 for night shift): \"))\n",
    "    hourly_pay_rate = float(input(\"Enter hourly pay rate: \"))\n",
    "\n",
    "    # Create a ProductionWorker object\n",
    "    worker = ProdcutionWorker(name, number, shift, hourly_pay_rate)\n",
    "\n",
    "    # Display the employee's data\n",
    "    print(\"Employee Data\n"
   ]
  }
 ],
 "metadata": {
  "kernelspec": {
   "display_name": "Python 3 (ipykernel)",
   "language": "python",
   "name": "python3"
  },
  "language_info": {
   "codemirror_mode": {
    "name": "ipython",
    "version": 3
   },
   "file_extension": ".py",
   "mimetype": "text/x-python",
   "name": "python",
   "nbconvert_exporter": "python",
   "pygments_lexer": "ipython3",
   "version": "3.9.6"
  }
 },
 "nbformat": 4,
 "nbformat_minor": 5
}
