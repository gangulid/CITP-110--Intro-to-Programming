{
 "cells": [
  {
   "cell_type": "markdown",
   "id": "3bcfa7f4-65d7-4a33-96f4-d1148f3aeb2a",
   "metadata": {},
   "source": [
    "## Problem 1 - Algorithm Workbench (While Loop)"
   ]
  },
  {
   "cell_type": "code",
   "execution_count": 3,
   "id": "614864e2-21b9-4a8b-bf65-c94c42366347",
   "metadata": {},
   "outputs": [
    {
     "name": "stdin",
     "output_type": "stream",
     "text": [
      "Enter a number: 1\n"
     ]
    },
    {
     "name": "stdout",
     "output_type": "stream",
     "text": [
      "The product is 10.0\n"
     ]
    },
    {
     "name": "stdin",
     "output_type": "stream",
     "text": [
      "Enter a number: 10\n"
     ]
    },
    {
     "name": "stdout",
     "output_type": "stream",
     "text": [
      "The product is 100.0\n"
     ]
    }
   ],
   "source": [
    "# initialized product to 0\n",
    "product = 0\n",
    "\n",
    "# while loop starts\n",
    "while product < 100: \n",
    "\n",
    "    # user inputs number which is then multiplied by 10 and displayed\n",
    "    # (as long as it is less than 100)\n",
    "    number = float(input(\"Enter a number:\"))\n",
    "    product = number * 10\n",
    "    print(\"The product is \" + str(product))"
   ]
  },
  {
   "cell_type": "markdown",
   "id": "3447249a-dda4-4558-ba36-bbfdddee9887",
   "metadata": {},
   "source": [
    "## Problem 2 - Algorithm Workbench (While Loop)"
   ]
  },
  {
   "cell_type": "code",
   "execution_count": 5,
   "id": "9dabfa5c-89e2-401e-8089-db3200ac4f27",
   "metadata": {},
   "outputs": [
    {
     "name": "stdin",
     "output_type": "stream",
     "text": [
      "Enter first number: 12\n",
      "Enter second number: 13\n"
     ]
    },
    {
     "name": "stdout",
     "output_type": "stream",
     "text": [
      "25.0\n"
     ]
    },
    {
     "name": "stdin",
     "output_type": "stream",
     "text": [
      "Run again? Y/N Y\n",
      "Enter first number: 2\n",
      "Enter second number: 5\n"
     ]
    },
    {
     "name": "stdout",
     "output_type": "stream",
     "text": [
      "7.0\n"
     ]
    },
    {
     "name": "stdin",
     "output_type": "stream",
     "text": [
      "Run again? Y/N N\n"
     ]
    }
   ],
   "source": [
    "##### initialized ans to \"Y\" so while loop runs\n",
    "ans = \"Y\"\n",
    "\n",
    "# Start while loop\n",
    "while ans == \"Y\":\n",
    "\n",
    "    # User enters n1 and n2 which are then added and displayed\n",
    "    n1 = float(input(\"Enter first number:\"))\n",
    "    n2 = float(input(\"Enter second number:\"))\n",
    "    sum = n1 + n2 \n",
    "    print(sum)\n",
    "    ans = input(\"Run again? Y/N\")\n",
    "    if ans != \"Y\":\n",
    "        break \n",
    "        \n",
    "    # if user types N, while loop breaks"
   ]
  },
  {
   "cell_type": "markdown",
   "id": "23b62d75-f92e-4f04-8a40-ee988feb3104",
   "metadata": {},
   "source": [
    "## Question 1 - Bug Collector (Programming Exercises)"
   ]
  },
  {
   "cell_type": "code",
   "execution_count": 6,
   "id": "9c0fb78f-2b18-439f-81a7-19d0868cec0d",
   "metadata": {},
   "outputs": [
    {
     "name": "stdin",
     "output_type": "stream",
     "text": [
      "Please enter number of bugs collected on 1 12\n",
      "Please enter number of bugs collected on 2 13\n",
      "Please enter number of bugs collected on 3 14\n",
      "Please enter number of bugs collected on 4 15\n",
      "Please enter number of bugs collected on 5 16\n"
     ]
    },
    {
     "name": "stdout",
     "output_type": "stream",
     "text": [
      "Total bugs = 70\n"
     ]
    }
   ],
   "source": [
    "#initialized bugs to 0 and created day variable\n",
    "bugs = 0\n",
    "day = 1\n",
    "\n",
    "# started while loop that collects input numbers, adds them, and then displays them\n",
    "while day <= 5:\n",
    "    amount = int(input(\"Please enter number of bugs collected on \" +str(day)))\n",
    "    bugs = bugs + amount\n",
    "    day = day + 1\n",
    "\n",
    "#total number of bugs\n",
    "print(\"Total bugs = \" + str(bugs))\n"
   ]
  },
  {
   "cell_type": "markdown",
   "id": "f5a8d017-438c-424a-ad19-6598e5056bce",
   "metadata": {},
   "source": [
    "## Question 4 - Distance Travelled (Programming Exercises)"
   ]
  },
  {
   "cell_type": "code",
   "execution_count": 7,
   "id": "f5d81cf5-b8d5-4998-a4c7-c1bc3f2d1378",
   "metadata": {},
   "outputs": [
    {
     "name": "stdin",
     "output_type": "stream",
     "text": [
      "What is the speed of the vehicle in mph?  12\n",
      "How many hours has it traveled?  2\n"
     ]
    },
    {
     "name": "stdout",
     "output_type": "stream",
     "text": [
      "Distance Traveled: 24.0\n"
     ]
    },
    {
     "name": "stdin",
     "output_type": "stream",
     "text": [
      "Run again? Y/N Y\n",
      "What is the speed of the vehicle in mph?  56\n",
      "How many hours has it traveled?  2\n"
     ]
    },
    {
     "name": "stdout",
     "output_type": "stream",
     "text": [
      "Distance Traveled: 112.0\n"
     ]
    },
    {
     "name": "stdin",
     "output_type": "stream",
     "text": [
      "Run again? Y/N N\n"
     ]
    }
   ],
   "source": [
    "# initialized answer\n",
    "ans = \"Y\"\n",
    "\n",
    "#started while loop when user enters speed and time\n",
    "while ans == \"Y\":\n",
    "    speed = float(input(\"What is the speed of the vehicle in mph? \"))\n",
    "    time = float(input(\"How many hours has it traveled? \"))\n",
    "    distance = speed * time\n",
    "\n",
    "    #calculates, displays answer, and prompts user to run program again\n",
    "    print(\"Distance Traveled: \" + str(distance))\n",
    "    ans = input(\"Run again? Y/N\")\n",
    "    if ans != \"Y\":\n",
    "        break\n"
   ]
  },
  {
   "cell_type": "markdown",
   "id": "1af92e72-6860-42a4-9e4b-7874b5f55dd1",
   "metadata": {},
   "source": [
    "## Question 13 - Pattern (Programming Exercises)"
   ]
  },
  {
   "cell_type": "code",
   "execution_count": 8,
   "id": "a88d04f4-74cc-459a-a7d7-906a5c94e9dc",
   "metadata": {},
   "outputs": [
    {
     "name": "stdout",
     "output_type": "stream",
     "text": [
      "*******\n",
      "******\n",
      "*****\n",
      "****\n",
      "***\n",
      "**\n",
      "*\n"
     ]
    }
   ],
   "source": [
    "# defined n as 7 (total number of asterisks)\n",
    "n = 7\n",
    "\n",
    "# nested if and while loop to create pattern\n",
    "while n >= 1:\n",
    "    if n == 7:\n",
    "        print(\"*\" + \"*\" + \"*\" + \"*\" + \"*\" + \"*\" + \"*\")\n",
    "    elif n == 6:\n",
    "        print(\"*\" + \"*\" + \"*\" + \"*\" + \"*\" + \"*\")\n",
    "    elif n == 5:\n",
    "        print(\"*\" + \"*\" + \"*\" + \"*\" + \"*\")\n",
    "    elif n == 4:\n",
    "        print(\"*\" + \"*\" + \"*\" + \"*\")\n",
    "    elif n == 3:\n",
    "        print(\"*\" + \"*\" + \"*\")\n",
    "    elif n == 2:\n",
    "        print(\"*\" + \"*\")\n",
    "    elif n == 1:\n",
    "        print(\"*\") \n",
    "\n",
    "    n = n - 1"
   ]
  },
  {
   "cell_type": "markdown",
   "id": "8ba1123e-cbab-45d3-a3d3-af6480a4a089",
   "metadata": {},
   "source": [
    "## Question 14 - Pattern 2 (Programming Exercises)"
   ]
  },
  {
   "cell_type": "code",
   "execution_count": 14,
   "id": "d43dcc49-e6ef-487c-a325-b291f8411c11",
   "metadata": {},
   "outputs": [
    {
     "name": "stdout",
     "output_type": "stream",
     "text": [
      "##\n",
      "# #\n",
      "#  #\n",
      "#   #\n",
      "#    #\n",
      "#     #\n"
     ]
    }
   ],
   "source": [
    "# defined n a\n",
    "n = 0\n",
    "\n",
    "while n <= 5:\n",
    "    if n == 0:\n",
    "        print(\"##\")\n",
    "    elif n == 1:\n",
    "        print(\"# #\")\n",
    "    elif n == 2:\n",
    "        print(\"#  #\")\n",
    "    elif n == 3:\n",
    "        print(\"#   #\")\n",
    "    elif n == 4:\n",
    "        print(\"#    #\")\n",
    "    elif n == 5:\n",
    "        print(\"#     #\")\n",
    "            \n",
    "    n = n + 1"
   ]
  }
 ],
 "metadata": {
  "kernelspec": {
   "display_name": "Python 3 (ipykernel)",
   "language": "python",
   "name": "python3"
  },
  "language_info": {
   "codemirror_mode": {
    "name": "ipython",
    "version": 3
   },
   "file_extension": ".py",
   "mimetype": "text/x-python",
   "name": "python",
   "nbconvert_exporter": "python",
   "pygments_lexer": "ipython3",
   "version": "3.9.6"
  }
 },
 "nbformat": 4,
 "nbformat_minor": 5
}
