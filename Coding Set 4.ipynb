{
 "cells": [
  {
   "cell_type": "markdown",
   "id": "3bcfa7f4-65d7-4a33-96f4-d1148f3aeb2a",
   "metadata": {},
   "source": [
    "## Problem 1 - Algorithm Workbench (While Loop)"
   ]
  },
  {
   "cell_type": "code",
   "execution_count": null,
   "id": "614864e2-21b9-4a8b-bf65-c94c42366347",
   "metadata": {},
   "outputs": [],
   "source": []
  },
  {
   "cell_type": "markdown",
   "id": "3447249a-dda4-4558-ba36-bbfdddee9887",
   "metadata": {},
   "source": [
    "## Problem 2 - Algorithm Workbench (While Loop)"
   ]
  },
  {
   "cell_type": "code",
   "execution_count": 1,
   "id": "6c5207d8-3ff9-48eb-a6b8-f0c09d5cff3a",
   "metadata": {},
   "outputs": [
    {
     "name": "stdin",
     "output_type": "stream",
     "text": [
      "Enter first number: 2\n",
      "Enter second number: 3\n"
     ]
    },
    {
     "name": "stdout",
     "output_type": "stream",
     "text": [
      "5.0\n"
     ]
    },
    {
     "name": "stdin",
     "output_type": "stream",
     "text": [
      "Run again? Y/N Y\n",
      "Enter first number: 3\n",
      "Enter second number: 5\n"
     ]
    },
    {
     "name": "stdout",
     "output_type": "stream",
     "text": [
      "8.0\n"
     ]
    },
    {
     "name": "stdin",
     "output_type": "stream",
     "text": [
      "Run again? Y/N N\n"
     ]
    }
   ],
   "source": [
    "# initialized ans to \"Y\" so while loop runs\n",
    "\n",
    "ans = \"Y\"\n",
    "\n",
    "# Start while loop\n",
    "\n",
    "while ans == \"Y\":\n",
    "\n",
    "    # User enters n1 and n2 which are then added and displayed\n",
    "    \n",
    "    n1 = float(input(\"Enter first number:\"))\n",
    "    n2 = float(input(\"Enter second number:\"))\n",
    "    sum = n1 + n2 \n",
    "    print(sum)\n",
    "    ans = input(\"Run again? Y/N\")\n",
    "    if ans != \"Y\":\n",
    "        break \n",
    "        \n",
    "    # if user types N, while loop breaks"
   ]
  },
  {
   "cell_type": "code",
   "execution_count": null,
   "id": "de519b2d-6d8d-4cab-bb89-84bd22e09b17",
   "metadata": {},
   "outputs": [],
   "source": []
  }
 ],
 "metadata": {
  "kernelspec": {
   "display_name": "Python 3 (ipykernel)",
   "language": "python",
   "name": "python3"
  },
  "language_info": {
   "codemirror_mode": {
    "name": "ipython",
    "version": 3
   },
   "file_extension": ".py",
   "mimetype": "text/x-python",
   "name": "python",
   "nbconvert_exporter": "python",
   "pygments_lexer": "ipython3",
   "version": "3.9.6"
  }
 },
 "nbformat": 4,
 "nbformat_minor": 5
}
