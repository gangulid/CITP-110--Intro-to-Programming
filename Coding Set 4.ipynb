{
 "cells": [
  {
   "cell_type": "markdown",
   "id": "3bcfa7f4-65d7-4a33-96f4-d1148f3aeb2a",
   "metadata": {},
   "source": [
    "## Problem 1 - Algorithm Workbench (While Loop)"
   ]
  },
  {
   "cell_type": "code",
   "execution_count": null,
   "id": "614864e2-21b9-4a8b-bf65-c94c42366347",
   "metadata": {},
   "outputs": [],
   "source": [
    "# initialized product to 0\n",
    "product = 0\n",
    "\n",
    "# while loop starts\n",
    "while product < 100: \n",
    "\n",
    "    # user inputs number which is then multiplied by 10 and displayed\n",
    "    # (as long as it is less than 100)\n",
    "    number = float(input(\"Enter a number:\"))\n",
    "    product = number * 10\n",
    "    print(\"The product is \" + str(product))"
   ]
  },
  {
   "cell_type": "markdown",
   "id": "3447249a-dda4-4558-ba36-bbfdddee9887",
   "metadata": {},
   "source": [
    "## Problem 2 - Algorithm Workbench (While Loop)"
   ]
  },
  {
   "cell_type": "code",
   "execution_count": null,
   "id": "6c5207d8-3ff9-48eb-a6b8-f0c09d5cff3a",
   "metadata": {},
   "outputs": [],
   "source": [
    "# initialized ans to \"Y\" so while loop runs\n",
    "ans = \"Y\"\n",
    "\n",
    "# Start while loop\n",
    "while ans == \"Y\":\n",
    "\n",
    "    # User enters n1 and n2 which are then added and displayed\n",
    "    n1 = float(input(\"Enter first number:\"))\n",
    "    n2 = float(input(\"Enter second number:\"))\n",
    "    sum = n1 + n2 \n",
    "    print(sum)\n",
    "    ans = input(\"Run again? Y/N\")\n",
    "    if ans != \"Y\":\n",
    "        break \n",
    "        \n",
    "    # if user types N, while loop breaks"
   ]
  },
  {
   "cell_type": "markdown",
   "id": "23b62d75-f92e-4f04-8a40-ee988feb3104",
   "metadata": {},
   "source": [
    "## Question 1 - Bug Collector (Programming Exercises)"
   ]
  },
  {
   "cell_type": "code",
   "execution_count": null,
   "id": "9c0fb78f-2b18-439f-81a7-19d0868cec0d",
   "metadata": {},
   "outputs": [],
   "source": [
    "#initialized bugs to 0 and created day variable\n",
    "bugs = 0\n",
    "day = 1\n",
    "\n",
    "# started while loop that collects input numbers, adds them, and then displays them\n",
    "while day <= 5:\n",
    "    amount = int(input(\"Please enter number of bugs collected on \" +str(day)))\n",
    "    bugs = bugs + amount\n",
    "    day = day + 1\n",
    "\n",
    "#total number of bugs\n",
    "print(\"Total bugs = \" + str(bugs))\n"
   ]
  },
  {
   "cell_type": "markdown",
   "id": "f5a8d017-438c-424a-ad19-6598e5056bce",
   "metadata": {},
   "source": [
    "## Question 4 - Distance Travelled (Programming Exercises)"
   ]
  },
  {
   "cell_type": "code",
   "execution_count": null,
   "id": "f5d81cf5-b8d5-4998-a4c7-c1bc3f2d1378",
   "metadata": {},
   "outputs": [],
   "source": [
    "# initialized answer\n",
    "ans = \"Y\"\n",
    "\n",
    "#started while loop when user enters speed and time\n",
    "while ans == \"Y\":\n",
    "    speed = float(input(\"What is the speed of the vehicle in mph? \"))\n",
    "    time = float(input(\"How many hours has it traveled? \"))\n",
    "    distance = speed * time\n",
    "\n",
    "    #calculates, displays answer, and prompts user to run program again\n",
    "    print(\"Distance Traveled: \" + str(distance))\n",
    "    ans = input(\"Run again? Y/N\")\n",
    "    if ans != \"Y\":\n",
    "        break\n"
   ]
  },
  {
   "cell_type": "markdown",
   "id": "1af92e72-6860-42a4-9e4b-7874b5f55dd1",
   "metadata": {},
   "source": [
    "## Question X - XXXX (Programming Exercises)"
   ]
  },
  {
   "cell_type": "code",
   "execution_count": null,
   "id": "a88d04f4-74cc-459a-a7d7-906a5c94e9dc",
   "metadata": {},
   "outputs": [],
   "source": []
  },
  {
   "cell_type": "markdown",
   "id": "8ba1123e-cbab-45d3-a3d3-af6480a4a089",
   "metadata": {},
   "source": [
    "## Question X - XXXX (Programming Exercises)"
   ]
  },
  {
   "cell_type": "code",
   "execution_count": null,
   "id": "2ca03a70-27a6-4c8b-9707-272f5750683c",
   "metadata": {},
   "outputs": [],
   "source": []
  }
 ],
 "metadata": {
  "kernelspec": {
   "display_name": "Python 3 (ipykernel)",
   "language": "python",
   "name": "python3"
  },
  "language_info": {
   "codemirror_mode": {
    "name": "ipython",
    "version": 3
   },
   "file_extension": ".py",
   "mimetype": "text/x-python",
   "name": "python",
   "nbconvert_exporter": "python",
   "pygments_lexer": "ipython3",
   "version": "3.9.6"
  }
 },
 "nbformat": 4,
 "nbformat_minor": 5
}
