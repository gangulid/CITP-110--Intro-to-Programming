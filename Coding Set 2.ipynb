{
 "cells": [
  {
   "cell_type": "markdown",
   "id": "e258b1a9-be53-4132-af63-4a8d6ff4ae07",
   "metadata": {},
   "source": [
    "# Algorithm Workbench - 1\n",
    "##### We are asked to write code that prompts the user to enter their height and assigns the user's input to a variable named height"
   ]
  },
  {
   "cell_type": "code",
   "execution_count": 3,
   "id": "bcc1e619-e6ca-4167-9e83-c0ae1773f407",
   "metadata": {},
   "outputs": [
    {
     "name": "stdin",
     "output_type": "stream",
     "text": [
      "Enter your height 5 feet\n"
     ]
    },
    {
     "name": "stdout",
     "output_type": "stream",
     "text": [
      "5 feet\n"
     ]
    }
   ],
   "source": [
    "height = input('Enter your height')\n",
    "print(height)\n",
    "# I created a variable with an input for entering height, and once entered, the code prints the height."
   ]
  },
  {
   "cell_type": "markdown",
   "id": "e761bf3e-dd90-403a-a725-786f952c7338",
   "metadata": {},
   "source": [
    "# Programming Exercise - "
   ]
  },
  {
   "cell_type": "code",
   "execution_count": null,
   "id": "d29219f1-32cb-4855-ab02-da39d161c7e4",
   "metadata": {},
   "outputs": [],
   "source": []
  },
  {
   "cell_type": "markdown",
   "id": "27f8fbd0-fe29-4661-b20b-871762ab93e1",
   "metadata": {},
   "source": [
    "# Programming Exercise - 13 (Planting Grapevines)"
   ]
  },
  {
   "cell_type": "code",
   "execution_count": null,
   "id": "431b2516-3aae-407f-b11d-b9aee2695a36",
   "metadata": {},
   "outputs": [],
   "source": []
  }
 ],
 "metadata": {
  "kernelspec": {
   "display_name": "Python 3 (ipykernel)",
   "language": "python",
   "name": "python3"
  },
  "language_info": {
   "codemirror_mode": {
    "name": "ipython",
    "version": 3
   },
   "file_extension": ".py",
   "mimetype": "text/x-python",
   "name": "python",
   "nbconvert_exporter": "python",
   "pygments_lexer": "ipython3",
   "version": "3.9.6"
  }
 },
 "nbformat": 4,
 "nbformat_minor": 5
}
