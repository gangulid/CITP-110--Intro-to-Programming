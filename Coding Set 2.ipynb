{
 "cells": [
  {
   "cell_type": "markdown",
   "id": "e258b1a9-be53-4132-af63-4a8d6ff4ae07",
   "metadata": {},
   "source": [
    "# Algorithm Workbench - 1\n",
    "##### We are asked to write code that prompts the user to enter their height and assigns the user's input to a variable named height."
   ]
  },
  {
   "cell_type": "code",
   "execution_count": 12,
   "id": "bcc1e619-e6ca-4167-9e83-c0ae1773f407",
   "metadata": {},
   "outputs": [
    {
     "name": "stdin",
     "output_type": "stream",
     "text": [
      "Enter your height: 5 feet\n"
     ]
    },
    {
     "name": "stdout",
     "output_type": "stream",
     "text": [
      "5 feet\n"
     ]
    }
   ],
   "source": [
    "height = input(\"Enter your height:\")\n",
    "print(height)\n",
    "# I created a variable with an input for entering height, and once entered, the code prints the height."
   ]
  },
  {
   "cell_type": "markdown",
   "id": "e761bf3e-dd90-403a-a725-786f952c7338",
   "metadata": {},
   "source": [
    "# Programming Exercise - 2\n",
    "\n",
    "##### We are asked to write a code that calculates the annual profit of a company based of projected total sales."
   ]
  },
  {
   "cell_type": "code",
   "execution_count": 16,
   "id": "d29219f1-32cb-4855-ab02-da39d161c7e4",
   "metadata": {},
   "outputs": [
    {
     "name": "stdin",
     "output_type": "stream",
     "text": [
      "Enter the projected amount of total sales: 200000\n"
     ]
    },
    {
     "name": "stdout",
     "output_type": "stream",
     "text": [
      "The estimated annual profit is 46000.0\n"
     ]
    }
   ],
   "source": [
    "totalSales = int(input(\"Enter the projected amount of total sales:\"))\n",
    "# I created a variable for total sales using an input function that was specified as an integer\n",
    "# The inter specification allows the computer to translate the input from a string to something it can calculate\n",
    "annualProfit = totalSales * 0.23\n",
    "print('The estimated annual profit is' , annualProfit)\n",
    "# After multiplying the two values, the annual profit is displayed.\n"
   ]
  },
  {
   "cell_type": "markdown",
   "id": "27f8fbd0-fe29-4661-b20b-871762ab93e1",
   "metadata": {},
   "source": [
    "# Programming Exercise - 13 (Planting Grapevines)\n",
    "##### We are asked to create a code that makes calculations for the vineyard owner within some specifications."
   ]
  },
  {
   "cell_type": "code",
   "execution_count": 23,
   "id": "431b2516-3aae-407f-b11d-b9aee2695a36",
   "metadata": {},
   "outputs": [
    {
     "name": "stdin",
     "output_type": "stream",
     "text": [
      "Enter the length of the row in feet: 10.0\n",
      "Enter the amount of space used by an end-post assembly in feet: 1\n",
      "Enter the amount of space between the vines in feet: 0.5\n"
     ]
    },
    {
     "name": "stdout",
     "output_type": "stream",
     "text": [
      "The number of grapevines that will fit in the row: 16.0\n"
     ]
    }
   ],
   "source": [
    "R = float(input(\"Enter the length of the row in feet:\"))\n",
    "E = float(input(\"Enter the amount of space used by an end-post assembly in feet:\"))\n",
    "S = float(input(\"Enter the amount of space between the vines in feet:\"))\n",
    "# I created float variable inputs for the calculating terms\n",
    "V = ( R - (2 * E))/S\n",
    "# I made the 'V' variable equal to the equation by utlising order of \n",
    "print(\"The number of grapevines that will fit in the row:\" , V)"
   ]
  },
  {
   "cell_type": "code",
   "execution_count": null,
   "id": "6d356772-bfe4-4238-b6a8-ef213029851c",
   "metadata": {},
   "outputs": [],
   "source": []
  }
 ],
 "metadata": {
  "kernelspec": {
   "display_name": "Python 3 (ipykernel)",
   "language": "python",
   "name": "python3"
  },
  "language_info": {
   "codemirror_mode": {
    "name": "ipython",
    "version": 3
   },
   "file_extension": ".py",
   "mimetype": "text/x-python",
   "name": "python",
   "nbconvert_exporter": "python",
   "pygments_lexer": "ipython3",
   "version": "3.9.6"
  }
 },
 "nbformat": 4,
 "nbformat_minor": 5
}
