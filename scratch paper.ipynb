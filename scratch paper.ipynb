{
 "cells": [
  {
   "cell_type": "code",
   "execution_count": null,
   "id": "b99d3aeb-eef7-4ec5-b129-ba568f0fd30f",
   "metadata": {},
   "outputs": [],
   "source": [
    "# Creating class name \"pet\"\n",
    "\n",
    "class Pet:\n",
    "    # __init__ method initializes the data attributes\n",
    "    def __init__(self, name, animal_type, age):\n",
    "        self.__name = name\n",
    "        self.__animal_type = animal_type\n",
    "        self.__age = age\n",
    "\n",
    "    #\n",
    "    def set_name(self, name):\n",
    "        self.__name = name \n",
    "\n",
    "    def set_animal_type(self, animal_type): \n",
    "        self.__animal_type = animal_type\n",
    "\n",
    "    def set_age(self, age):\n",
    "        self.__age = age\n",
    "\n",
    "    def get_name(self):\n",
    "        return self.__name\n",
    "\n",
    "    def get_animal_type(self):\n",
    "        return self.__animal_type\n",
    "\n",
    "    def get_age(self):\n",
    "        return self.__age\n",
    "\n"
   ]
  }
 ],
 "metadata": {
  "kernelspec": {
   "display_name": "Python 3 (ipykernel)",
   "language": "python",
   "name": "python3"
  },
  "language_info": {
   "codemirror_mode": {
    "name": "ipython",
    "version": 3
   },
   "file_extension": ".py",
   "mimetype": "text/x-python",
   "name": "python",
   "nbconvert_exporter": "python",
   "pygments_lexer": "ipython3",
   "version": "3.9.6"
  }
 },
 "nbformat": 4,
 "nbformat_minor": 5
}
