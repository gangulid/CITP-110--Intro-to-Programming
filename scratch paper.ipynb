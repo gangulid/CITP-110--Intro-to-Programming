{
 "cells": [
  {
   "cell_type": "markdown",
   "id": "98a43fd3-f29b-453f-81d5-3ec2408d2270",
   "metadata": {},
   "source": [
    "## Programming Exercise: The Pet Class - 1"
   ]
  },
  {
   "cell_type": "code",
   "execution_count": 2,
   "id": "f1a00c6a-6986-4ac7-8e8c-e775b2f0c01b",
   "metadata": {},
   "outputs": [
    {
     "name": "stdin",
     "output_type": "stream",
     "text": [
      "What is your pet's name?  Biscuit\n",
      "What kind of animal is your pet?  Dog\n",
      "How old is your pet in years?  3\n"
     ]
    },
    {
     "name": "stdout",
     "output_type": "stream",
     "text": [
      " The name is Biscuit\n",
      " The type is Dog\n",
      " The age is 3.0\n"
     ]
    }
   ],
   "source": [
    "# Creating class name \"pet\"\n",
    "class Pet:\n",
    "\n",
    "    # __init__ method initializes the data attributes\n",
    "    def __init__(self, name = '', animal_type = '', age = 0):\n",
    "        self.__name = name\n",
    "        self.animal_type = animal_type\n",
    "        self.__age = age\n",
    "\n",
    "    # Creating methods of assigning and returning values\n",
    "    def set_name(self, name):\n",
    "        self.__name = name\n",
    "\n",
    "    def set_animal_type(self, animal_type):\n",
    "        self.__animal_type = animal_type\n",
    "\n",
    "    def set_age(self, age):\n",
    "        self.__age = age\n",
    "\n",
    "    def get_name(self):\n",
    "        return self.__name\n",
    "\n",
    "    def get_animal_type(self):\n",
    "        return self.__animal_type\n",
    "\n",
    "    def get_age(self):\n",
    "        return self.__age\n",
    "\n",
    "# Creating main function\n",
    "def main():\n",
    "\n",
    "    # Get name, type, and age of the pet\n",
    "    pet_name = str(input(\"What is your pet's name? \"))\n",
    "    pet_type = str(input(\"What kind of animal is your pet? \"))\n",
    "    pet_age = float(input(\"How old is your pet in years? \"))\n",
    "\n",
    "    # Create a variable of class Pet\n",
    "    pet = Pet()\n",
    "\n",
    "    # Set and retrieve attributes\n",
    "    pet.set_name(pet_name)\n",
    "    pet.set_animal_type(pet_type)\n",
    "    pet.set_age(pet_age)\n",
    "\n",
    "    # Displaying attributes in a formatted print statement\n",
    "    print(f' The name is {pet.get_name()}')\n",
    "    print(f' The type is {pet.get_animal_type()}')\n",
    "    print(f' The age is {pet.get_age()}')\n",
    "\n",
    "# Calling main function\n",
    "if __name__ == '__main__':\n",
    "    main()\n",
    "        "
   ]
  },
  {
   "cell_type": "markdown",
   "id": "32162d89-1f7f-4965-896f-e4b5559588ee",
   "metadata": {},
   "source": [
    "## Programming Exercise: Car Class - 2"
   ]
  },
  {
   "cell_type": "code",
   "execution_count": 3,
   "id": "938126e4-2979-4bc1-8f8c-6e372d15c9c0",
   "metadata": {},
   "outputs": [
    {
     "name": "stdout",
     "output_type": "stream",
     "text": [
      "5\n",
      "10\n",
      "15\n",
      "20\n",
      "25\n",
      "20\n",
      "15\n",
      "10\n",
      "5\n",
      "0\n"
     ]
    }
   ],
   "source": [
    "# Creating class name \"car\"\n",
    "class Car:\n",
    "\n",
    "    # __init__ method initializes the data attributes\n",
    "    def __init__(self, year_model = 0, make = '', speed = 0):\n",
    "        self.__year_model = year_model\n",
    "        self.__make = make\n",
    "        self.__speed = speed\n",
    "\n",
    "    # Creating methods of assigning and returning values\n",
    "    def set_year_model(self, year_model):\n",
    "        self.__year_model = year_model\n",
    "\n",
    "    def set_make(self, make):\n",
    "        self.__make = make\n",
    "\n",
    "    def set_speed(self, speed):\n",
    "        self.__speed = speed\n",
    "\n",
    "    def accelerate(self, speed):\n",
    "        self.__speed = self.__speed + speed\n",
    "\n",
    "    def brake(self, speed):\n",
    "        self.__speed = self.__speed - speed\n",
    "\n",
    "    def get_speed(self):\n",
    "        return self.__speed\n",
    "\n",
    "# Creating main function\n",
    "def main():\n",
    "    car = Car()\n",
    "    for i in range(5):\n",
    "        car.accelerate(5)\n",
    "        print(car.get_speed())\n",
    "\n",
    "    for i in range(5):\n",
    "        car.brake(5)\n",
    "        print(car.get_speed())\n",
    "\n",
    "if __name__ == '__main__':\n",
    "    main()\n",
    "        "
   ]
  },
  {
   "cell_type": "code",
   "execution_count": null,
   "id": "e6a4268a-bd7e-48a8-8388-d2c70a96d9d3",
   "metadata": {},
   "outputs": [],
   "source": []
  }
 ],
 "metadata": {
  "kernelspec": {
   "display_name": "Python 3 (ipykernel)",
   "language": "python",
   "name": "python3"
  },
  "language_info": {
   "codemirror_mode": {
    "name": "ipython",
    "version": 3
   },
   "file_extension": ".py",
   "mimetype": "text/x-python",
   "name": "python",
   "nbconvert_exporter": "python",
   "pygments_lexer": "ipython3",
   "version": "3.9.6"
  }
 },
 "nbformat": 4,
 "nbformat_minor": 5
}
