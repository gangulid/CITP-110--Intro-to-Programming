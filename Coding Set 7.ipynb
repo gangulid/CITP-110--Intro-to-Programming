{
 "cells": [
  {
   "cell_type": "markdown",
   "id": "9f771655-cc80-471b-9b6f-81ba1d8e4411",
   "metadata": {},
   "source": [
    "## Algorithm Workbench - 1"
   ]
  },
  {
   "cell_type": "code",
   "execution_count": 6,
   "id": "3481341f-60e1-4384-97e5-f819725c56b1",
   "metadata": {},
   "outputs": [
    {
     "name": "stdout",
     "output_type": "stream",
     "text": [
      "['Einstein', 'Newton', 'Copernicus', 'Kepler']\n"
     ]
    }
   ],
   "source": [
    "# Assigned list to X variable\n",
    "x =['Einstein', 'Newton', 'Copernicus', 'Kepler']\n",
    "\n",
    "# Displayed list\n",
    "print(x)"
   ]
  },
  {
   "cell_type": "markdown",
   "id": "3ad53df4-e597-43b2-90f9-e9c2bdca3850",
   "metadata": {},
   "source": [
    "## Algorithm Workbench - 3"
   ]
  },
  {
   "cell_type": "code",
   "execution_count": 4,
   "id": "8de4c409-ac9c-4dd4-b175-2623d4c211d8",
   "metadata": {},
   "outputs": [
    {
     "name": "stdout",
     "output_type": "stream",
     "text": [
      "[1, 2, 3, 4, 5, 6, 7, 8, 9, 10, 11, 12, 13, 14, 15, 16, 17, 18, 19, 20, 21, 22, 23, 24, 25, 26, 27, 28, 29, 30, 31, 32, 33, 34, 35, 36, 37, 38, 39, 40, 41, 42, 43, 44, 45, 46, 47, 48, 49, 50, 51, 52, 53, 54, 55, 56, 57, 58, 59, 60, 61, 62, 63, 64, 65, 66, 67, 68, 69, 70, 71, 72, 73, 74, 75, 76, 77, 78, 79, 80, 81, 82, 83, 84, 85, 86, 87, 88, 89, 90, 91, 92, 93, 94, 95, 96, 97, 98, 99, 100]\n"
     ]
    }
   ],
   "source": [
    "# Created two lists\n",
    "# numbers1 lists values 1-100\n",
    "# numbers2 is an empty list\n",
    "numbers1 = list(range(1,101)) \n",
    "numbers2 = []\n",
    "\n",
    "# For loop appending elements from numbers1 to numbers2\n",
    "for item in numbers1:\n",
    "    numbers2.append(item)\n",
    "\n",
    "# Displayed results\n",
    "print(numbers2)"
   ]
  },
  {
   "cell_type": "markdown",
   "id": "da3b5bbe-0a45-4eb9-a178-c11bfeaf5a82",
   "metadata": {},
   "source": [
    "##"
   ]
  },
  {
   "cell_type": "markdown",
   "id": "928b30b7-1ce1-4825-9973-1473a9e238ba",
   "metadata": {},
   "source": [
    "## Programming Exercise 1 - Total Sales"
   ]
  },
  {
   "cell_type": "code",
   "execution_count": 4,
   "id": "8e655e34-dabe-4476-911e-64fbaaeefd73",
   "metadata": {},
   "outputs": [
    {
     "name": "stdin",
     "output_type": "stream",
     "text": [
      "Enter the sales for day: 1 12\n",
      "Enter the sales for day: 2 22\n",
      "Enter the sales for day: 3 3\n",
      "Enter the sales for day: 4 2\n",
      "Enter the sales for day: 5 2\n",
      "Enter the sales for day: 6 22\n",
      "Enter the sales for day: 7 3\n"
     ]
    },
    {
     "name": "stdout",
     "output_type": "stream",
     "text": [
      "The total for the week is: $66.0\n"
     ]
    }
   ],
   "source": [
    "# Initializing variable\n",
    "total_sales = 0 \n",
    "\n",
    "# Creating for loop with a day range of 7\n",
    "for day in range(7):\n",
    "\n",
    "    # User value input for daily sales\n",
    "    sales = float(input(\"Enter the sales for day: \" + str(day + 1)))\n",
    "\n",
    "    # Calculating total_sales\n",
    "    total_sales += sales \n",
    "\n",
    "# Displaying results\n",
    "print(\"The total for the week is: $\" + str(total_sales))\n",
    "    \n"
   ]
  },
  {
   "cell_type": "markdown",
   "id": "ad371e67-2a7a-428d-9633-343095af49d0",
   "metadata": {},
   "source": [
    "## Programming Exercise - 14"
   ]
  },
  {
   "cell_type": "code",
   "execution_count": 13,
   "id": "6a305470-86d4-48a1-9efc-2ee97f5e1baa",
   "metadata": {},
   "outputs": [
    {
     "name": "stdout",
     "output_type": "stream",
     "text": [
      "['rent', 'gas', 'food', 'clothing', 'car', 'misc']\n",
      "['1200', '150', '450', '200', '300', '100']\n"
     ]
    },
    {
     "data": {
      "image/png": "[encoded data removed]",
      "text/plain": [
       "<Figure size 640x480 with 1 Axes>"
      ]
     },
     "metadata": {},
     "output_type": "display_data"
    }
   ],
   "source": [
    "# imported library\n",
    "import matplotlib.pyplot as plt\n",
    "\n",
    "# opened file\n",
    "expenses_file = open('expenses.txt', 'r')\n",
    "\n",
    "# create empty lists\n",
    "cat_list = []\n",
    "val_list = []\n",
    "\n",
    "# created for loop\n",
    "for line in expenses_file:\n",
    "    \n",
    "  # read data from file\n",
    "    stripped_line = line.strip()\n",
    "    cat, val = stripped_line.split()\n",
    "\n",
    "    # add to list\n",
    "    cat_list.append(cat)\n",
    "    val_list.append(val)\n",
    "\n",
    "# display list\n",
    "print(cat_list)\n",
    "print(val_list)\n",
    "expenses_file.close()\n",
    "\n",
    "# plot pie chart and display\n",
    "plt.figure()\n",
    "plt.pie(val_list, labels = cat_list)\n",
    "plt.title(\"Expenses Pie Chart\")\n",
    "plt.show()"
   ]
  },
  {
   "cell_type": "markdown",
   "id": "5f69f859-4a7b-4fe2-ba74-575ccfbc7205",
   "metadata": {},
   "source": [
    "## Programming Exercise - 2"
   ]
  },
  {
   "cell_type": "code",
   "execution_count": 17,
   "id": "f94aa1a1-8666-4830-b26b-24309ffe29fa",
   "metadata": {},
   "outputs": [
    {
     "name": "stdout",
     "output_type": "stream",
     "text": [
      "1\n",
      "0\n",
      "3\n",
      "6\n",
      "2\n",
      "6\n",
      "0\n"
     ]
    }
   ],
   "source": [
    "# generating empty list\n",
    "lottery_number = []\n",
    "\n",
    "# creating for loo[p\n",
    "for i in range(7):\n",
    "    x = random.randint(0,9)\n",
    "    lottery_number.append(x)\n",
    "\n",
    "for i in range(7):\n",
    "    print(lottery_number[i])\n"
   ]
  },
  {
   "cell_type": "markdown",
   "id": "da8151d7-512d-4242-a646-d34218f06266",
   "metadata": {},
   "source": [
    "## Programming Exercise - X"
   ]
  },
  {
   "cell_type": "code",
   "execution_count": null,
   "id": "ef3b446b-0705-48cd-b076-b93f9cab3db2",
   "metadata": {},
   "outputs": [],
   "source": []
  }
 ],
 "metadata": {
  "kernelspec": {
   "display_name": "Python 3 (ipykernel)",
   "language": "python",
   "name": "python3"
  },
  "language_info": {
   "codemirror_mode": {
    "name": "ipython",
    "version": 3
   },
   "file_extension": ".py",
   "mimetype": "text/x-python",
   "name": "python",
   "nbconvert_exporter": "python",
   "pygments_lexer": "ipython3",
   "version": "3.9.6"
  }
 },
 "nbformat": 4,
 "nbformat_minor": 5
}
